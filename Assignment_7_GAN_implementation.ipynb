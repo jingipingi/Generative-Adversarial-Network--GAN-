{
  "cells": [
    {
      "cell_type": "markdown",
      "metadata": {
        "id": "e1_Y75QXJS6h"
      },
      "source": [
        "#Install and Load Libraries"
      ]
    },
    {
      "cell_type": "code",
      "source": [
        "!pip install keras_tuner"
      ],
      "metadata": {
        "colab": {
          "base_uri": "https://localhost:8080/"
        },
        "id": "2W9D3ZUsCuxa",
        "outputId": "765dfa23-a389-41cf-b41f-b35c3705f9b5"
      },
      "execution_count": 1,
      "outputs": [
        {
          "output_type": "stream",
          "name": "stdout",
          "text": [
            "Collecting keras_tuner\n",
            "  Downloading keras_tuner-1.4.7-py3-none-any.whl.metadata (5.4 kB)\n",
            "Requirement already satisfied: keras in /usr/local/lib/python3.11/dist-packages (from keras_tuner) (3.8.0)\n",
            "Requirement already satisfied: packaging in /usr/local/lib/python3.11/dist-packages (from keras_tuner) (24.2)\n",
            "Requirement already satisfied: requests in /usr/local/lib/python3.11/dist-packages (from keras_tuner) (2.32.3)\n",
            "Collecting kt-legacy (from keras_tuner)\n",
            "  Downloading kt_legacy-1.0.5-py3-none-any.whl.metadata (221 bytes)\n",
            "Requirement already satisfied: absl-py in /usr/local/lib/python3.11/dist-packages (from keras->keras_tuner) (1.4.0)\n",
            "Requirement already satisfied: numpy in /usr/local/lib/python3.11/dist-packages (from keras->keras_tuner) (1.26.4)\n",
            "Requirement already satisfied: rich in /usr/local/lib/python3.11/dist-packages (from keras->keras_tuner) (13.9.4)\n",
            "Requirement already satisfied: namex in /usr/local/lib/python3.11/dist-packages (from keras->keras_tuner) (0.0.8)\n",
            "Requirement already satisfied: h5py in /usr/local/lib/python3.11/dist-packages (from keras->keras_tuner) (3.12.1)\n",
            "Requirement already satisfied: optree in /usr/local/lib/python3.11/dist-packages (from keras->keras_tuner) (0.14.0)\n",
            "Requirement already satisfied: ml-dtypes in /usr/local/lib/python3.11/dist-packages (from keras->keras_tuner) (0.4.1)\n",
            "Requirement already satisfied: charset-normalizer<4,>=2 in /usr/local/lib/python3.11/dist-packages (from requests->keras_tuner) (3.4.1)\n",
            "Requirement already satisfied: idna<4,>=2.5 in /usr/local/lib/python3.11/dist-packages (from requests->keras_tuner) (3.10)\n",
            "Requirement already satisfied: urllib3<3,>=1.21.1 in /usr/local/lib/python3.11/dist-packages (from requests->keras_tuner) (2.3.0)\n",
            "Requirement already satisfied: certifi>=2017.4.17 in /usr/local/lib/python3.11/dist-packages (from requests->keras_tuner) (2025.1.31)\n",
            "Requirement already satisfied: typing-extensions>=4.5.0 in /usr/local/lib/python3.11/dist-packages (from optree->keras->keras_tuner) (4.12.2)\n",
            "Requirement already satisfied: markdown-it-py>=2.2.0 in /usr/local/lib/python3.11/dist-packages (from rich->keras->keras_tuner) (3.0.0)\n",
            "Requirement already satisfied: pygments<3.0.0,>=2.13.0 in /usr/local/lib/python3.11/dist-packages (from rich->keras->keras_tuner) (2.18.0)\n",
            "Requirement already satisfied: mdurl~=0.1 in /usr/local/lib/python3.11/dist-packages (from markdown-it-py>=2.2.0->rich->keras->keras_tuner) (0.1.2)\n",
            "Downloading keras_tuner-1.4.7-py3-none-any.whl (129 kB)\n",
            "\u001b[2K   \u001b[90m━━━━━━━━━━━━━━━━━━━━━━━━━━━━━━━━━━━━━━━━\u001b[0m \u001b[32m129.1/129.1 kB\u001b[0m \u001b[31m2.7 MB/s\u001b[0m eta \u001b[36m0:00:00\u001b[0m\n",
            "\u001b[?25hDownloading kt_legacy-1.0.5-py3-none-any.whl (9.6 kB)\n",
            "Installing collected packages: kt-legacy, keras_tuner\n",
            "Successfully installed keras_tuner-1.4.7 kt-legacy-1.0.5\n"
          ]
        }
      ]
    },
    {
      "cell_type": "code",
      "execution_count": 36,
      "metadata": {
        "id": "WZKbyU2-AiY-"
      },
      "outputs": [],
      "source": [
        "import tensorflow as tf\n",
        "import matplotlib.pyplot as plt\n",
        "import numpy as np\n",
        "import os\n",
        "from tensorflow.keras import layers\n",
        "import seaborn as sns\n",
        "import keras_tuner as kt\n",
        "from tensorflow import keras\n",
        "from scipy.stats import entropy\n",
        "from tensorflow.keras.applications.inception_v3 import InceptionV3\n",
        "from tensorflow.keras.applications.inception_v3 import preprocess_input\n",
        "from scipy.linalg import sqrtm"
      ]
    },
    {
      "cell_type": "code",
      "execution_count": 4,
      "metadata": {
        "id": "wx-zNbLqB4K8",
        "colab": {
          "base_uri": "https://localhost:8080/",
          "height": 35
        },
        "outputId": "936d9b94-295e-46f2-f3ba-ddbcab0ca469"
      },
      "outputs": [
        {
          "output_type": "execute_result",
          "data": {
            "text/plain": [
              "'2.18.0'"
            ],
            "application/vnd.google.colaboratory.intrinsic+json": {
              "type": "string"
            }
          },
          "metadata": {},
          "execution_count": 4
        }
      ],
      "source": [
        "tf.__version__"
      ]
    },
    {
      "cell_type": "markdown",
      "metadata": {
        "id": "iYn4MdZnKCey"
      },
      "source": [
        "### Load and prepare the dataset"
      ]
    },
    {
      "cell_type": "code",
      "execution_count": 5,
      "metadata": {
        "id": "a4fYMGxGhrna",
        "colab": {
          "base_uri": "https://localhost:8080/"
        },
        "outputId": "d79ca21d-44e7-4676-ad81-a68b8d67933c"
      },
      "outputs": [
        {
          "output_type": "stream",
          "name": "stdout",
          "text": [
            "Downloading data from https://storage.googleapis.com/tensorflow/tf-keras-datasets/train-labels-idx1-ubyte.gz\n",
            "\u001b[1m29515/29515\u001b[0m \u001b[32m━━━━━━━━━━━━━━━━━━━━\u001b[0m\u001b[37m\u001b[0m \u001b[1m0s\u001b[0m 0us/step\n",
            "Downloading data from https://storage.googleapis.com/tensorflow/tf-keras-datasets/train-images-idx3-ubyte.gz\n",
            "\u001b[1m26421880/26421880\u001b[0m \u001b[32m━━━━━━━━━━━━━━━━━━━━\u001b[0m\u001b[37m\u001b[0m \u001b[1m0s\u001b[0m 0us/step\n",
            "Downloading data from https://storage.googleapis.com/tensorflow/tf-keras-datasets/t10k-labels-idx1-ubyte.gz\n",
            "\u001b[1m5148/5148\u001b[0m \u001b[32m━━━━━━━━━━━━━━━━━━━━\u001b[0m\u001b[37m\u001b[0m \u001b[1m0s\u001b[0m 0us/step\n",
            "Downloading data from https://storage.googleapis.com/tensorflow/tf-keras-datasets/t10k-images-idx3-ubyte.gz\n",
            "\u001b[1m4422102/4422102\u001b[0m \u001b[32m━━━━━━━━━━━━━━━━━━━━\u001b[0m\u001b[37m\u001b[0m \u001b[1m0s\u001b[0m 0us/step\n"
          ]
        }
      ],
      "source": [
        "(train_images, train_labels), (test_images, test_labels) = tf.keras.datasets.fashion_mnist.load_data()"
      ]
    },
    {
      "cell_type": "code",
      "source": [
        "class_names = ['T-shirt/top', 'Trouser', 'Pullover', 'Dress', 'Coat',\n",
        "               'Sandal', 'Shirt', 'Sneaker', 'Bag', 'Ankle boot']"
      ],
      "metadata": {
        "id": "E94LMADIwNeZ"
      },
      "execution_count": 6,
      "outputs": []
    },
    {
      "cell_type": "code",
      "source": [
        "train_images.shape"
      ],
      "metadata": {
        "colab": {
          "base_uri": "https://localhost:8080/"
        },
        "id": "VZdV9w68wpUR",
        "outputId": "c71b35fd-9926-4551-b4c2-d9f35402e9bd"
      },
      "execution_count": 7,
      "outputs": [
        {
          "output_type": "execute_result",
          "data": {
            "text/plain": [
              "(60000, 28, 28)"
            ]
          },
          "metadata": {},
          "execution_count": 7
        }
      ]
    },
    {
      "cell_type": "code",
      "source": [
        "train_labels.shape"
      ],
      "metadata": {
        "colab": {
          "base_uri": "https://localhost:8080/"
        },
        "id": "iCyfz7f0wwbi",
        "outputId": "245cf2aa-739d-402d-bc50-740aad9be407"
      },
      "execution_count": 8,
      "outputs": [
        {
          "output_type": "execute_result",
          "data": {
            "text/plain": [
              "(60000,)"
            ]
          },
          "metadata": {},
          "execution_count": 8
        }
      ]
    },
    {
      "cell_type": "markdown",
      "source": [
        "# Exploratory Analysis"
      ],
      "metadata": {
        "id": "yHBI3cULZpm2"
      }
    },
    {
      "cell_type": "code",
      "source": [
        "train_images[0]"
      ],
      "metadata": {
        "colab": {
          "base_uri": "https://localhost:8080/",
          "height": 68
        },
        "id": "2ma6YSYEwyJ4",
        "outputId": "a976a91f-5021-406c-c68d-840ba3198b0b"
      },
      "execution_count": 9,
      "outputs": [
        {
          "output_type": "execute_result",
          "data": {
            "text/plain": [
              "array([[  0,   0,   0,   0,   0,   0,   0,   0,   0,   0,   0,   0,   0,\n",
              "          0,   0,   0,   0,   0,   0,   0,   0,   0,   0,   0,   0,   0,\n",
              "          0,   0],\n",
              "       [  0,   0,   0,   0,   0,   0,   0,   0,   0,   0,   0,   0,   0,\n",
              "          0,   0,   0,   0,   0,   0,   0,   0,   0,   0,   0,   0,   0,\n",
              "          0,   0],\n",
              "       [  0,   0,   0,   0,   0,   0,   0,   0,   0,   0,   0,   0,   0,\n",
              "          0,   0,   0,   0,   0,   0,   0,   0,   0,   0,   0,   0,   0,\n",
              "          0,   0],\n",
              "       [  0,   0,   0,   0,   0,   0,   0,   0,   0,   0,   0,   0,   1,\n",
              "          0,   0,  13,  73,   0,   0,   1,   4,   0,   0,   0,   0,   1,\n",
              "          1,   0],\n",
              "       [  0,   0,   0,   0,   0,   0,   0,   0,   0,   0,   0,   0,   3,\n",
              "          0,  36, 136, 127,  62,  54,   0,   0,   0,   1,   3,   4,   0,\n",
              "          0,   3],\n",
              "       [  0,   0,   0,   0,   0,   0,   0,   0,   0,   0,   0,   0,   6,\n",
              "          0, 102, 204, 176, 134, 144, 123,  23,   0,   0,   0,   0,  12,\n",
              "         10,   0],\n",
              "       [  0,   0,   0,   0,   0,   0,   0,   0,   0,   0,   0,   0,   0,\n",
              "          0, 155, 236, 207, 178, 107, 156, 161, 109,  64,  23,  77, 130,\n",
              "         72,  15],\n",
              "       [  0,   0,   0,   0,   0,   0,   0,   0,   0,   0,   0,   1,   0,\n",
              "         69, 207, 223, 218, 216, 216, 163, 127, 121, 122, 146, 141,  88,\n",
              "        172,  66],\n",
              "       [  0,   0,   0,   0,   0,   0,   0,   0,   0,   1,   1,   1,   0,\n",
              "        200, 232, 232, 233, 229, 223, 223, 215, 213, 164, 127, 123, 196,\n",
              "        229,   0],\n",
              "       [  0,   0,   0,   0,   0,   0,   0,   0,   0,   0,   0,   0,   0,\n",
              "        183, 225, 216, 223, 228, 235, 227, 224, 222, 224, 221, 223, 245,\n",
              "        173,   0],\n",
              "       [  0,   0,   0,   0,   0,   0,   0,   0,   0,   0,   0,   0,   0,\n",
              "        193, 228, 218, 213, 198, 180, 212, 210, 211, 213, 223, 220, 243,\n",
              "        202,   0],\n",
              "       [  0,   0,   0,   0,   0,   0,   0,   0,   0,   1,   3,   0,  12,\n",
              "        219, 220, 212, 218, 192, 169, 227, 208, 218, 224, 212, 226, 197,\n",
              "        209,  52],\n",
              "       [  0,   0,   0,   0,   0,   0,   0,   0,   0,   0,   6,   0,  99,\n",
              "        244, 222, 220, 218, 203, 198, 221, 215, 213, 222, 220, 245, 119,\n",
              "        167,  56],\n",
              "       [  0,   0,   0,   0,   0,   0,   0,   0,   0,   4,   0,   0,  55,\n",
              "        236, 228, 230, 228, 240, 232, 213, 218, 223, 234, 217, 217, 209,\n",
              "         92,   0],\n",
              "       [  0,   0,   1,   4,   6,   7,   2,   0,   0,   0,   0,   0, 237,\n",
              "        226, 217, 223, 222, 219, 222, 221, 216, 223, 229, 215, 218, 255,\n",
              "         77,   0],\n",
              "       [  0,   3,   0,   0,   0,   0,   0,   0,   0,  62, 145, 204, 228,\n",
              "        207, 213, 221, 218, 208, 211, 218, 224, 223, 219, 215, 224, 244,\n",
              "        159,   0],\n",
              "       [  0,   0,   0,   0,  18,  44,  82, 107, 189, 228, 220, 222, 217,\n",
              "        226, 200, 205, 211, 230, 224, 234, 176, 188, 250, 248, 233, 238,\n",
              "        215,   0],\n",
              "       [  0,  57, 187, 208, 224, 221, 224, 208, 204, 214, 208, 209, 200,\n",
              "        159, 245, 193, 206, 223, 255, 255, 221, 234, 221, 211, 220, 232,\n",
              "        246,   0],\n",
              "       [  3, 202, 228, 224, 221, 211, 211, 214, 205, 205, 205, 220, 240,\n",
              "         80, 150, 255, 229, 221, 188, 154, 191, 210, 204, 209, 222, 228,\n",
              "        225,   0],\n",
              "       [ 98, 233, 198, 210, 222, 229, 229, 234, 249, 220, 194, 215, 217,\n",
              "        241,  65,  73, 106, 117, 168, 219, 221, 215, 217, 223, 223, 224,\n",
              "        229,  29],\n",
              "       [ 75, 204, 212, 204, 193, 205, 211, 225, 216, 185, 197, 206, 198,\n",
              "        213, 240, 195, 227, 245, 239, 223, 218, 212, 209, 222, 220, 221,\n",
              "        230,  67],\n",
              "       [ 48, 203, 183, 194, 213, 197, 185, 190, 194, 192, 202, 214, 219,\n",
              "        221, 220, 236, 225, 216, 199, 206, 186, 181, 177, 172, 181, 205,\n",
              "        206, 115],\n",
              "       [  0, 122, 219, 193, 179, 171, 183, 196, 204, 210, 213, 207, 211,\n",
              "        210, 200, 196, 194, 191, 195, 191, 198, 192, 176, 156, 167, 177,\n",
              "        210,  92],\n",
              "       [  0,   0,  74, 189, 212, 191, 175, 172, 175, 181, 185, 188, 189,\n",
              "        188, 193, 198, 204, 209, 210, 210, 211, 188, 188, 194, 192, 216,\n",
              "        170,   0],\n",
              "       [  2,   0,   0,   0,  66, 200, 222, 237, 239, 242, 246, 243, 244,\n",
              "        221, 220, 193, 191, 179, 182, 182, 181, 176, 166, 168,  99,  58,\n",
              "          0,   0],\n",
              "       [  0,   0,   0,   0,   0,   0,   0,  40,  61,  44,  72,  41,  35,\n",
              "          0,   0,   0,   0,   0,   0,   0,   0,   0,   0,   0,   0,   0,\n",
              "          0,   0],\n",
              "       [  0,   0,   0,   0,   0,   0,   0,   0,   0,   0,   0,   0,   0,\n",
              "          0,   0,   0,   0,   0,   0,   0,   0,   0,   0,   0,   0,   0,\n",
              "          0,   0],\n",
              "       [  0,   0,   0,   0,   0,   0,   0,   0,   0,   0,   0,   0,   0,\n",
              "          0,   0,   0,   0,   0,   0,   0,   0,   0,   0,   0,   0,   0,\n",
              "          0,   0]], dtype=uint8)"
            ],
            "text/html": [
              "<style>\n",
              "      .ndarray_repr .ndarray_raw_data {\n",
              "        display: none;\n",
              "      }\n",
              "      .ndarray_repr.show_array .ndarray_raw_data {\n",
              "        display: block;\n",
              "      }\n",
              "      .ndarray_repr.show_array .ndarray_image_preview {\n",
              "        display: none;\n",
              "      }\n",
              "      </style>\n",
              "      <div id=\"id-7203a23d-875f-4385-9cb3-ce79018d3691\" class=\"ndarray_repr\"><pre>ndarray (28, 28) <button style=\"padding: 0 2px;\">show data</button></pre><img src=\"data:image/png;base64,iVBORw0KGgoAAAANSUhEUgAAABwAAAAcCAAAAABXZoBIAAACBUlEQVR4nLXSz0tUURQH8O+597373rx545g6NmNJY6TlJgozEsKFZGCrkDBoVdGmdf9BiwJ3bVr1PwhBUbQfJQcKjWZRTsjo0KDpDPV+eN+997WK0Z2bvtsPfM+Bc4D/HwJycwBZAEAE6zAyfe5RFMQfFYiRAj+CXM/c2HK82VetVMM34RGUmCxz9v7yYnW9dnWyskyHR6azi72Jwep3ScVk9c7LLhKQrpRBSiI2n76puZFT3doUwH4pcmw/zpjrU2zw3dFt4XEWdvbKhpinzTBYt5bDH4qlLYO8cbKBWHOudDHluFtiLrLD0kmM2//6q9VFS+JLLDxv9GzMPV9v3XuzYgHEGSUGCngbRCLd4W6CxPCLHTDwVMkDA0y/qEa/lFFBoF2EEME8CAD6hsZK8+djlmSatuiXXsWfNh27NU6Yelro1bytPElRbaGaO1FGPfc7zPg9HvHlIaVD8AjID9y/+bgZ/6iP9ks7J/QZevh8w/cd2PlGs8CKt92R7MQEk0yA7GtWq9ETN3zRs7fpR7FaWi/3yXaipW1IjFnbaSM70N7dsRzbzbHd8aCx7+wmKskUO5esz0sPmvXYF67gBzoNfxptxb5stxM10iLg1pOTO23NhcUptW1hE6gFYYprC8QMMPNsMM+4pamVbps/HGkSsg+1Cv4d+0Jh//Sm3DjGix4rfwFoJNh2/0cDFgAAAABJRU5ErkJggg==\" class=\"ndarray_image_preview\" /><pre class=\"ndarray_raw_data\">array([[  0,   0,   0,   0,   0,   0,   0,   0,   0,   0,   0,   0,   0,\n",
              "          0,   0,   0,   0,   0,   0,   0,   0,   0,   0,   0,   0,   0,\n",
              "          0,   0],\n",
              "       [  0,   0,   0,   0,   0,   0,   0,   0,   0,   0,   0,   0,   0,\n",
              "          0,   0,   0,   0,   0,   0,   0,   0,   0,   0,   0,   0,   0,\n",
              "          0,   0],\n",
              "       [  0,   0,   0,   0,   0,   0,   0,   0,   0,   0,   0,   0,   0,\n",
              "          0,   0,   0,   0,   0,   0,   0,   0,   0,   0,   0,   0,   0,\n",
              "          0,   0],\n",
              "       [  0,   0,   0,   0,   0,   0,   0,   0,   0,   0,   0,   0,   1,\n",
              "          0,   0,  13,  73,   0,   0,   1,   4,   0,   0,   0,   0,   1,\n",
              "          1,   0],\n",
              "       [  0,   0,   0,   0,   0,   0,   0,   0,   0,   0,   0,   0,   3,\n",
              "          0,  36, 136, 127,  62,  54,   0,   0,   0,   1,   3,   4,   0,\n",
              "          0,   3],\n",
              "       [  0,   0,   0,   0,   0,   0,   0,   0,   0,   0,   0,   0,   6,\n",
              "          0, 102, 204, 176, 134, 144, 123,  23,   0,   0,   0,   0,  12,\n",
              "         10,   0],\n",
              "       [  0,   0,   0,   0,   0,   0,   0,   0,   0,   0,   0,   0,   0,\n",
              "          0, 155, 236, 207, 178, 107, 156, 161, 109,  64,  23,  77, 130,\n",
              "         72,  15],\n",
              "       [  0,   0,   0,   0,   0,   0,   0,   0,   0,   0,   0,   1,   0,\n",
              "         69, 207, 223, 218, 216, 216, 163, 127, 121, 122, 146, 141,  88,\n",
              "        172,  66],\n",
              "       [  0,   0,   0,   0,   0,   0,   0,   0,   0,   1,   1,   1,   0,\n",
              "        200, 232, 232, 233, 229, 223, 223, 215, 213, 164, 127, 123, 196,\n",
              "        229,   0],\n",
              "       [  0,   0,   0,   0,   0,   0,   0,   0,   0,   0,   0,   0,   0,\n",
              "        183, 225, 216, 223, 228, 235, 227, 224, 222, 224, 221, 223, 245,\n",
              "        173,   0],\n",
              "       [  0,   0,   0,   0,   0,   0,   0,   0,   0,   0,   0,   0,   0,\n",
              "        193, 228, 218, 213, 198, 180, 212, 210, 211, 213, 223, 220, 243,\n",
              "        202,   0],\n",
              "       [  0,   0,   0,   0,   0,   0,   0,   0,   0,   1,   3,   0,  12,\n",
              "        219, 220, 212, 218, 192, 169, 227, 208, 218, 224, 212, 226, 197,\n",
              "        209,  52],\n",
              "       [  0,   0,   0,   0,   0,   0,   0,   0,   0,   0,   6,   0,  99,\n",
              "        244, 222, 220, 218, 203, 198, 221, 215, 213, 222, 220, 245, 119,\n",
              "        167,  56],\n",
              "       [  0,   0,   0,   0,   0,   0,   0,   0,   0,   4,   0,   0,  55,\n",
              "        236, 228, 230, 228, 240, 232, 213, 218, 223, 234, 217, 217, 209,\n",
              "         92,   0],\n",
              "       [  0,   0,   1,   4,   6,   7,   2,   0,   0,   0,   0,   0, 237,\n",
              "        226, 217, 223, 222, 219, 222, 221, 216, 223, 229, 215, 218, 255,\n",
              "         77,   0],\n",
              "       [  0,   3,   0,   0,   0,   0,   0,   0,   0,  62, 145, 204, 228,\n",
              "        207, 213, 221, 218, 208, 211, 218, 224, 223, 219, 215, 224, 244,\n",
              "        159,   0],\n",
              "       [  0,   0,   0,   0,  18,  44,  82, 107, 189, 228, 220, 222, 217,\n",
              "        226, 200, 205, 211, 230, 224, 234, 176, 188, 250, 248, 233, 238,\n",
              "        215,   0],\n",
              "       [  0,  57, 187, 208, 224, 221, 224, 208, 204, 214, 208, 209, 200,\n",
              "        159, 245, 193, 206, 223, 255, 255, 221, 234, 221, 211, 220, 232,\n",
              "        246,   0],\n",
              "       [  3, 202, 228, 224, 221, 211, 211, 214, 205, 205, 205, 220, 240,\n",
              "         80, 150, 255, 229, 221, 188, 154, 191, 210, 204, 209, 222, 228,\n",
              "        225,   0],\n",
              "       [ 98, 233, 198, 210, 222, 229, 229, 234, 249, 220, 194, 215, 217,\n",
              "        241,  65,  73, 106, 117, 168, 219, 221, 215, 217, 223, 223, 224,\n",
              "        229,  29],\n",
              "       [ 75, 204, 212, 204, 193, 205, 211, 225, 216, 185, 197, 206, 198,\n",
              "        213, 240, 195, 227, 245, 239, 223, 218, 212, 209, 222, 220, 221,\n",
              "        230,  67],\n",
              "       [ 48, 203, 183, 194, 213, 197, 185, 190, 194, 192, 202, 214, 219,\n",
              "        221, 220, 236, 225, 216, 199, 206, 186, 181, 177, 172, 181, 205,\n",
              "        206, 115],\n",
              "       [  0, 122, 219, 193, 179, 171, 183, 196, 204, 210, 213, 207, 211,\n",
              "        210, 200, 196, 194, 191, 195, 191, 198, 192, 176, 156, 167, 177,\n",
              "        210,  92],\n",
              "       [  0,   0,  74, 189, 212, 191, 175, 172, 175, 181, 185, 188, 189,\n",
              "        188, 193, 198, 204, 209, 210, 210, 211, 188, 188, 194, 192, 216,\n",
              "        170,   0],\n",
              "       [  2,   0,   0,   0,  66, 200, 222, 237, 239, 242, 246, 243, 244,\n",
              "        221, 220, 193, 191, 179, 182, 182, 181, 176, 166, 168,  99,  58,\n",
              "          0,   0],\n",
              "       [  0,   0,   0,   0,   0,   0,   0,  40,  61,  44,  72,  41,  35,\n",
              "          0,   0,   0,   0,   0,   0,   0,   0,   0,   0,   0,   0,   0,\n",
              "          0,   0],\n",
              "       [  0,   0,   0,   0,   0,   0,   0,   0,   0,   0,   0,   0,   0,\n",
              "          0,   0,   0,   0,   0,   0,   0,   0,   0,   0,   0,   0,   0,\n",
              "          0,   0],\n",
              "       [  0,   0,   0,   0,   0,   0,   0,   0,   0,   0,   0,   0,   0,\n",
              "          0,   0,   0,   0,   0,   0,   0,   0,   0,   0,   0,   0,   0,\n",
              "          0,   0]], dtype=uint8)</pre></div><script>\n",
              "      (() => {\n",
              "      const titles = ['show data', 'hide data'];\n",
              "      let index = 0\n",
              "      document.querySelector('#id-7203a23d-875f-4385-9cb3-ce79018d3691 button').onclick = (e) => {\n",
              "        document.querySelector('#id-7203a23d-875f-4385-9cb3-ce79018d3691').classList.toggle('show_array');\n",
              "        index = (++index) % 2;\n",
              "        document.querySelector('#id-7203a23d-875f-4385-9cb3-ce79018d3691 button').textContent = titles[index];\n",
              "        e.preventDefault();\n",
              "        e.stopPropagation();\n",
              "      }\n",
              "      })();\n",
              "    </script>"
            ]
          },
          "metadata": {},
          "execution_count": 9
        }
      ]
    },
    {
      "cell_type": "code",
      "source": [
        "plt.figure()\n",
        "plt.imshow(train_images[0])\n",
        "plt.colorbar()\n",
        "plt.grid(False)\n",
        "plt.show()"
      ],
      "metadata": {
        "colab": {
          "base_uri": "https://localhost:8080/",
          "height": 430
        },
        "id": "3TeVDoU1xEAb",
        "outputId": "fc7e6559-647c-4b42-bc43-48a5fa08cb8f"
      },
      "execution_count": 10,
      "outputs": [
        {
          "output_type": "display_data",
          "data": {
            "text/plain": [
              "<Figure size 640x480 with 2 Axes>"
            ],
            "image/png": "[encoded data removed]"
          },
          "metadata": {}
        }
      ]
    },
    {
      "cell_type": "code",
      "source": [
        "# Convert numeric labels to class names\n",
        "train_labels_named = [class_names[label] for label in train_labels]\n",
        "\n",
        "plt.figure(figsize=(10, 5))\n",
        "sns.countplot(x=train_labels_named, order=class_names)  # Ensure labels are in the correct order\n",
        "plt.xticks(rotation=45)\n",
        "plt.title('Frequency Plot of Fashion Items in the Training Data')\n",
        "plt.xlabel('Item')\n",
        "plt.ylabel('Frequency')\n",
        "plt.show()"
      ],
      "metadata": {
        "colab": {
          "base_uri": "https://localhost:8080/",
          "height": 536
        },
        "id": "4caaFKzfZmUd",
        "outputId": "136b2a57-335f-4ae1-eecc-e716a1f94c9f"
      },
      "execution_count": 11,
      "outputs": [
        {
          "output_type": "display_data",
          "data": {
            "text/plain": [
              "<Figure size 1000x500 with 1 Axes>"
            ],
            "image/png": "[encoded data removed]"
          },
          "metadata": {}
        }
      ]
    },
    {
      "cell_type": "code",
      "source": [
        "# Create a dictionary to store the first 10 images for each digit\n",
        "item_images = {}\n",
        "for item in range(10):\n",
        "  item_images[item] = []\n",
        "\n",
        "# Collect the first 10 images for each digit\n",
        "for i in range(len(train_images)):\n",
        "    digit = train_labels[i]\n",
        "    if len(item_images[digit]) < 10:\n",
        "        item_images[digit].append(train_images[i])\n",
        "\n",
        "# Create the plot with an extra column for labels\n",
        "fig, axes = plt.subplots(10, 11, figsize=(17, 15))  # 10 rows, 11 columns (1 for labels)\n",
        "\n",
        "for i, item in enumerate(sorted(item_images.keys())):\n",
        "    # Display label in the first column\n",
        "    axes[i, 0].text(0.5, 0.5, class_names[item],\n",
        "                    ha='center', va='center', fontsize=12)\n",
        "    axes[i, 0].axis('off')  # Turn off axes for label cell\n",
        "\n",
        "    # Display images in the remaining columns\n",
        "    for j in range(10):\n",
        "        axes[i, j + 1].imshow(item_images[item][j], cmap='gray')\n",
        "        axes[i, j + 1].axis('off')\n",
        "\n",
        "plt.tight_layout()\n",
        "plt.show()"
      ],
      "metadata": {
        "id": "_3q2eulAcNeo",
        "outputId": "9a4267c1-fb2e-4139-c18b-ca114345ffb4",
        "colab": {
          "base_uri": "https://localhost:8080/",
          "height": 1000
        }
      },
      "execution_count": 12,
      "outputs": [
        {
          "output_type": "display_data",
          "data": {
            "text/plain": [
              "<Figure size 1700x1500 with 110 Axes>"
            ],
            "image/png": "[encoded data removed]"
          },
          "metadata": {}
        }
      ]
    },
    {
      "cell_type": "markdown",
      "source": [
        "### Pre-processing"
      ],
      "metadata": {
        "id": "VzHf7yUoD6Ee"
      }
    },
    {
      "cell_type": "code",
      "execution_count": 13,
      "metadata": {
        "id": "NFC2ghIdiZYE"
      },
      "outputs": [],
      "source": [
        "train_images = train_images.reshape(train_images.shape[0], 28, 28, 1).astype('float32')\n",
        "train_images = (train_images - 127.5) / 127.5  # Normalize the images to [-1, 1]"
      ]
    },
    {
      "cell_type": "code",
      "execution_count": 14,
      "metadata": {
        "id": "S4PIDhoDLbsZ"
      },
      "outputs": [],
      "source": [
        "BUFFER_SIZE = 60000\n",
        "BATCH_SIZE = 256\n",
        "LATENT_DIM = 100\n",
        "EPOCHS = 50"
      ]
    },
    {
      "cell_type": "code",
      "execution_count": 15,
      "metadata": {
        "id": "-yKCCQOoJ7cn"
      },
      "outputs": [],
      "source": [
        "# Batch and shuffle the data\n",
        "train_dataset = tf.data.Dataset.from_tensor_slices(train_images).shuffle(BUFFER_SIZE).batch(BATCH_SIZE)"
      ]
    },
    {
      "cell_type": "markdown",
      "metadata": {
        "id": "THY-sZMiQ4UV"
      },
      "source": [
        "# Model Fitting"
      ]
    },
    {
      "cell_type": "markdown",
      "source": [
        "### Define Model Functions"
      ],
      "metadata": {
        "id": "RAiW4s6iEWS0"
      }
    },
    {
      "cell_type": "code",
      "source": [
        "# ----------------------\n",
        "# Function to Create Generator (Tunable)\n",
        "# ----------------------\n",
        "def build_generator(hp):\n",
        "    generator = keras.Sequential(name=\"Generator\")\n",
        "    generator.add(layers.Dense(7*7*hp.Choice('gen_filters', [128, 256, 512]), use_bias=False, input_shape=(LATENT_DIM,)))\n",
        "    generator.add(layers.BatchNormalization())\n",
        "    generator.add(layers.LeakyReLU())\n",
        "\n",
        "    generator.add(layers.Reshape((7, 7, hp.Choice('gen_filters', [128, 256, 512]))))\n",
        "\n",
        "    generator.add(layers.Conv2DTranspose(hp.Choice('gen_filters2', [64, 128]), (5, 5), strides=(1, 1), padding='same', use_bias=False))\n",
        "    generator.add(layers.BatchNormalization())\n",
        "    generator.add(layers.LeakyReLU())\n",
        "\n",
        "    generator.add(layers.Conv2DTranspose(hp.Choice('gen_filters3', [32, 64]), (5, 5), strides=(2, 2), padding='same', use_bias=False))\n",
        "    generator.add(layers.BatchNormalization())\n",
        "    generator.add(layers.LeakyReLU())\n",
        "\n",
        "    generator.add(layers.Conv2DTranspose(1, (5, 5), strides=(2, 2), padding='same', use_bias=False, activation='tanh'))\n",
        "\n",
        "    return generator"
      ],
      "metadata": {
        "id": "fUA8-5eNEiLw"
      },
      "execution_count": 16,
      "outputs": []
    },
    {
      "cell_type": "code",
      "source": [
        "# ----------------------\n",
        "# Function to Create Discriminator (Tunable)\n",
        "# ----------------------\n",
        "def build_discriminator(hp):\n",
        "    discriminator = keras.Sequential(name=\"Discriminator\")\n",
        "\n",
        "    discriminator.add(layers.Conv2D(hp.Choice('disc_filters', [32, 64, 128]), (5, 5), strides=(2, 2), padding='same', input_shape=[28, 28, 1]))\n",
        "    discriminator.add(layers.LeakyReLU())\n",
        "    discriminator.add(layers.Dropout(0.3))\n",
        "\n",
        "    discriminator.add(layers.Conv2D(hp.Choice('disc_filters2', [64, 128, 256]), (5, 5), strides=(2, 2), padding='same'))\n",
        "    discriminator.add(layers.LeakyReLU())\n",
        "    discriminator.add(layers.Dropout(0.3))\n",
        "\n",
        "    discriminator.add(layers.Flatten())\n",
        "    discriminator.add(layers.Dense(1, activation='sigmoid'))\n",
        "\n",
        "    return discriminator"
      ],
      "metadata": {
        "id": "iEE9anNKGRNg"
      },
      "execution_count": 17,
      "outputs": []
    },
    {
      "cell_type": "code",
      "execution_count": 18,
      "metadata": {
        "id": "6bpTcDqoLWjY"
      },
      "outputs": [],
      "source": [
        "# ----------------------\n",
        "# Training Step Function\n",
        "# ----------------------\n",
        "@tf.function\n",
        "def train_step(generator, discriminator, generator_optimizer, discriminator_optimizer, images):\n",
        "    noise = tf.random.normal([BATCH_SIZE, LATENT_DIM])\n",
        "\n",
        "    # Train the discriminator\n",
        "    with tf.GradientTape() as disc_tape:\n",
        "        generated_images = generator(noise, training=True)\n",
        "        real_output = discriminator(images, training=True)\n",
        "        fake_output = discriminator(generated_images, training=True)\n",
        "\n",
        "        disc_loss = tf.keras.losses.BinaryCrossentropy()(tf.ones_like(real_output), real_output) + \\\n",
        "                    tf.keras.losses.BinaryCrossentropy()(tf.zeros_like(fake_output), fake_output)\n",
        "\n",
        "    gradients_of_discriminator = disc_tape.gradient(disc_loss, discriminator.trainable_variables)\n",
        "    discriminator_optimizer.apply_gradients(zip(gradients_of_discriminator, discriminator.trainable_variables))\n",
        "\n",
        "    # Train the generator\n",
        "    with tf.GradientTape() as gen_tape:\n",
        "        generated_images = generator(noise, training=True)\n",
        "        fake_output = discriminator(generated_images, training=True)\n",
        "\n",
        "        gen_loss = tf.keras.losses.BinaryCrossentropy()(tf.ones_like(fake_output), fake_output)\n",
        "\n",
        "    gradients_of_generator = gen_tape.gradient(gen_loss, generator.trainable_variables)\n",
        "    generator_optimizer.apply_gradients(zip(gradients_of_generator, generator.trainable_variables))\n",
        "\n",
        "    return disc_loss, gen_loss"
      ]
    },
    {
      "cell_type": "code",
      "source": [
        "# ----------------------\n",
        "# Generate and Save Sample Images\n",
        "# ----------------------\n",
        "def generate_and_save_images(generator, epoch, save_dir=\"generated_images\"):\n",
        "    os.makedirs(save_dir, exist_ok=True)\n",
        "    noise = tf.random.normal([16, LATENT_DIM])\n",
        "    generated_images = generator(noise, training=False)\n",
        "\n",
        "    fig, axes = plt.subplots(4, 4, figsize=(5, 5))\n",
        "    for i, ax in enumerate(axes.flat):\n",
        "        ax.imshow(generated_images[i, :, :, 0], cmap='gray')\n",
        "        ax.axis('off')\n",
        "    plt.savefig(f\"{save_dir}/epoch_{epoch:03d}.png\")\n",
        "    plt.close()"
      ],
      "metadata": {
        "id": "urxNOy7lGbr7"
      },
      "execution_count": 19,
      "outputs": []
    },
    {
      "cell_type": "code",
      "source": [
        "# ----------------------\n",
        "# Discriminator Evaluation\n",
        "# ----------------------\n",
        "def evaluate_discriminator(discriminator, epoch):\n",
        "    noise = tf.random.normal([16, 28, 28, 1])  # Fake random images\n",
        "    predictions = discriminator(noise, training=False)\n",
        "    print(f\"Epoch {epoch}: Discriminator Predictions on Random Noise:\\n\", predictions.numpy())\n"
      ],
      "metadata": {
        "id": "3ZSEUDQNGd9t"
      },
      "execution_count": 20,
      "outputs": []
    },
    {
      "cell_type": "code",
      "source": [
        "# ----------------------\n",
        "# Function to Plot Losses\n",
        "# ----------------------\n",
        "def plot_losses(disc_losses, gen_losses):\n",
        "    plt.figure(figsize=(10, 5))\n",
        "    plt.plot(range(1, len(disc_losses) + 1), disc_losses, label=\"Discriminator Loss\")\n",
        "    plt.plot(range(1, len(gen_losses) + 1), gen_losses, label=\"Generator Loss\")\n",
        "    plt.xlabel(\"Epoch\")\n",
        "    plt.ylabel(\"Loss\")\n",
        "    plt.title(\"DCGAN Training Losses\")\n",
        "    plt.legend()\n",
        "    plt.grid(True)\n",
        "    plt.show()"
      ],
      "metadata": {
        "id": "QhmLTKqNM9gb"
      },
      "execution_count": 21,
      "outputs": []
    },
    {
      "cell_type": "code",
      "source": [
        "# ----------------------\n",
        "# Full Training Loop with Inspection\n",
        "# ----------------------\n",
        "def train_dcgan(generator, discriminator, generator_optimizer, discriminator_optimizer):\n",
        "    # Store losses for visualization\n",
        "    disc_losses = []\n",
        "    gen_losses = []\n",
        "\n",
        "   # Restore latest checkpoint if available\n",
        "    if checkpoint_manager.latest_checkpoint:\n",
        "        checkpoint.restore(checkpoint_manager.latest_checkpoint)\n",
        "        start_epoch = int(checkpoint.epoch.numpy())  # Resume from last saved epoch\n",
        "        print(f\"Restored from checkpoint {checkpoint_manager.latest_checkpoint}, resuming at epoch {start_epoch}\")\n",
        "    else:\n",
        "        start_epoch = 1  # Start from scratch\n",
        "\n",
        "    for epoch in range(start_epoch, EPOCHS + 1):\n",
        "        epoch_disc_loss = 0\n",
        "        epoch_gen_loss = 0\n",
        "        num_batches = 0\n",
        "\n",
        "        for image_batch in train_dataset:\n",
        "            disc_loss, gen_loss = train_step(generator, discriminator, generator_optimizer, discriminator_optimizer, image_batch)\n",
        "\n",
        "            epoch_disc_loss += disc_loss.numpy()\n",
        "            epoch_gen_loss += gen_loss.numpy()\n",
        "            num_batches += 1\n",
        "\n",
        "        # Compute average loss for the epoch\n",
        "        disc_losses.append(epoch_disc_loss / num_batches)\n",
        "        gen_losses.append(epoch_gen_loss / num_batches)\n",
        "\n",
        "        print(f\"Epoch {epoch}: Generator Loss: {gen_losses[-1]:.4f}, Discriminator Loss: {disc_losses[-1]:.4f}\")\n",
        "\n",
        "        # Save checkpoint every 5 epochs\n",
        "        if epoch % 5 == 0:\n",
        "            checkpoint_manager.save()\n",
        "            print(f\"Checkpoint saved at epoch {epoch}\")\n",
        "\n",
        "        # Inspect the models each epoch\n",
        "        generate_and_save_images(generator, epoch)\n",
        "        evaluate_discriminator(discriminator, epoch)\n",
        "\n",
        "    # Plot losses after training\n",
        "    plot_losses(disc_losses, gen_losses)"
      ],
      "metadata": {
        "id": "xPG-k7kcGhg8"
      },
      "execution_count": 32,
      "outputs": []
    },
    {
      "cell_type": "code",
      "source": [
        "# ----------------------\n",
        "# Hyperparameter Tuning with Keras Tuner\n",
        "# ----------------------\n",
        "class DCGANHyperModel(kt.HyperModel):\n",
        "    def build(self, hp):\n",
        "        # Create generator and discriminator with tunable hyperparameters\n",
        "        generator = build_generator(hp)\n",
        "        discriminator = build_discriminator(hp)\n",
        "\n",
        "        # Compile discriminator separately (needed for Keras Tuner compatibility)\n",
        "        discriminator.compile(optimizer=keras.optimizers.Adam(1e-4),\n",
        "                              loss=\"binary_crossentropy\",\n",
        "                              metrics=[\"accuracy\"])\n",
        "\n",
        "        return discriminator  # Keras Tuner expects a single model"
      ],
      "metadata": {
        "id": "XmUfMEb7GkJO"
      },
      "execution_count": 24,
      "outputs": []
    },
    {
      "cell_type": "code",
      "source": [
        "# Set up tuner\n",
        "tuner = kt.RandomSearch(\n",
        "    DCGANHyperModel(),\n",
        "    objective=kt.Objective(\"val_loss\", direction=\"min\"),\n",
        "    max_trials=3,  # Reduced for faster tuning\n",
        "    executions_per_trial=1,\n",
        "    directory=\"dcgan_tuning\",\n",
        "    project_name=\"fashion_mnist_dcgan\"\n",
        ")"
      ],
      "metadata": {
        "colab": {
          "base_uri": "https://localhost:8080/"
        },
        "id": "eCmrs5qZGmGg",
        "outputId": "4c2af08c-9f83-47d0-bfbe-0d19dbc1bbbe"
      },
      "execution_count": 25,
      "outputs": [
        {
          "output_type": "stream",
          "name": "stderr",
          "text": [
            "/usr/local/lib/python3.11/dist-packages/keras/src/layers/core/dense.py:87: UserWarning: Do not pass an `input_shape`/`input_dim` argument to a layer. When using Sequential models, prefer using an `Input(shape)` object as the first layer in the model instead.\n",
            "  super().__init__(activity_regularizer=activity_regularizer, **kwargs)\n",
            "/usr/local/lib/python3.11/dist-packages/keras/src/layers/convolutional/base_conv.py:107: UserWarning: Do not pass an `input_shape`/`input_dim` argument to a layer. When using Sequential models, prefer using an `Input(shape)` object as the first layer in the model instead.\n",
            "  super().__init__(activity_regularizer=activity_regularizer, **kwargs)\n"
          ]
        }
      ]
    },
    {
      "cell_type": "code",
      "source": [
        "# Summarize hyperparameters that Keras Tuner will explore\n",
        "tuner.search_space_summary()"
      ],
      "metadata": {
        "colab": {
          "base_uri": "https://localhost:8080/"
        },
        "id": "4kfyUbaqT_aX",
        "outputId": "58fcbb70-16f6-4b30-bc12-35aee3af9055"
      },
      "execution_count": 42,
      "outputs": [
        {
          "output_type": "stream",
          "name": "stdout",
          "text": [
            "Search space summary\n",
            "Default search space size: 5\n",
            "gen_filters (Choice)\n",
            "{'default': 128, 'conditions': [], 'values': [128, 256, 512], 'ordered': True}\n",
            "gen_filters2 (Choice)\n",
            "{'default': 64, 'conditions': [], 'values': [64, 128], 'ordered': True}\n",
            "gen_filters3 (Choice)\n",
            "{'default': 32, 'conditions': [], 'values': [32, 64], 'ordered': True}\n",
            "disc_filters (Choice)\n",
            "{'default': 32, 'conditions': [], 'values': [32, 64, 128], 'ordered': True}\n",
            "disc_filters2 (Choice)\n",
            "{'default': 64, 'conditions': [], 'values': [64, 128, 256], 'ordered': True}\n"
          ]
        }
      ]
    },
    {
      "cell_type": "code",
      "source": [
        "# Create a subset of the dataset for tuning the discriminator\n",
        "tune_images = train_images[:5000]  # Take a small subset for faster tuning\n",
        "tune_labels = np.ones((5000, 1))  # Fake labels since Keras Tuner expects supervised data\n",
        "\n",
        "# Run tuner on discriminator only (Generator will be trained later)\n",
        "tuner.search(tune_images, tune_labels, epochs=3, batch_size=128, validation_split=0.2)\n"
      ],
      "metadata": {
        "colab": {
          "base_uri": "https://localhost:8080/"
        },
        "id": "uus1IjR2G4IU",
        "outputId": "435f2837-d6ac-4dc6-cf58-7b6d93c1bfa1"
      },
      "execution_count": 26,
      "outputs": [
        {
          "output_type": "stream",
          "name": "stdout",
          "text": [
            "Trial 3 Complete [00h 00m 08s]\n",
            "val_loss: 0.008962055668234825\n",
            "\n",
            "Best val_loss So Far: 0.0010030019329860806\n",
            "Total elapsed time: 00h 00m 34s\n"
          ]
        }
      ]
    },
    {
      "cell_type": "code",
      "source": [
        "# Get best hyperparameters for discriminator\n",
        "best_hps = tuner.get_best_hyperparameters(num_trials=1)[0]"
      ],
      "metadata": {
        "id": "i7HhA6QqIHWF"
      },
      "execution_count": 27,
      "outputs": []
    },
    {
      "cell_type": "code",
      "source": [
        "for hyperparameter, value in best_hps.values.items():\n",
        "       print(f\"{hyperparameter}: {value}\")"
      ],
      "metadata": {
        "colab": {
          "base_uri": "https://localhost:8080/"
        },
        "id": "3max1DywUrbu",
        "outputId": "d42b0865-f409-419a-915b-2546c2b3587e"
      },
      "execution_count": 45,
      "outputs": [
        {
          "output_type": "stream",
          "name": "stdout",
          "text": [
            "gen_filters: 128\n",
            "gen_filters2: 128\n",
            "gen_filters3: 32\n",
            "disc_filters: 64\n",
            "disc_filters2: 256\n"
          ]
        }
      ]
    },
    {
      "cell_type": "code",
      "source": [
        "# Create the best models\n",
        "best_generator = build_generator(best_hps)\n",
        "best_discriminator = build_discriminator(best_hps)\n",
        "\n",
        "# Define optimizers for training\n",
        "generator_optimizer = keras.optimizers.Adam(1e-4)\n",
        "discriminator_optimizer = keras.optimizers.Adam(1e-4)"
      ],
      "metadata": {
        "id": "Rq7CrHFUIJuK"
      },
      "execution_count": 28,
      "outputs": []
    },
    {
      "cell_type": "code",
      "source": [
        "# ----------------------\n",
        "# Define Checkpoint Manager\n",
        "# ----------------------\n",
        "checkpoint_dir = \"dcgan_checkpoints\"\n",
        "checkpoint_prefix = os.path.join(checkpoint_dir, \"ckpt\")\n",
        "\n",
        "# Create a checkpoint object to save and load models\n",
        "checkpoint = tf.train.Checkpoint(generator=best_generator,\n",
        "                                 discriminator=best_discriminator,\n",
        "                                 generator_optimizer=generator_optimizer,\n",
        "                                 discriminator_optimizer=discriminator_optimizer)\n",
        "\n",
        "checkpoint_manager = tf.train.CheckpointManager(checkpoint, directory=checkpoint_dir, max_to_keep=5)"
      ],
      "metadata": {
        "id": "bwLjNrBsO2L4"
      },
      "execution_count": 30,
      "outputs": []
    },
    {
      "cell_type": "code",
      "source": [
        "# Train the full DCGAN using the best models\n",
        "train_dcgan(best_generator, best_discriminator, generator_optimizer, discriminator_optimizer)"
      ],
      "metadata": {
        "colab": {
          "base_uri": "https://localhost:8080/",
          "height": 1000
        },
        "id": "MxUL6suRPiZ1",
        "outputId": "e8e1dc44-fd87-46af-978d-18e34ae5d618"
      },
      "execution_count": 33,
      "outputs": [
        {
          "output_type": "stream",
          "name": "stdout",
          "text": [
            "Epoch 1: Generator Loss: 1.2375, Discriminator Loss: 0.9424\n",
            "Epoch 1: Discriminator Predictions on Random Noise:\n",
            " [[6.5720128e-04]\n",
            " [4.9262849e-04]\n",
            " [7.7671095e-05]\n",
            " [6.7440167e-05]\n",
            " [3.2576302e-04]\n",
            " [8.8571536e-04]\n",
            " [2.9148898e-04]\n",
            " [9.4366202e-04]\n",
            " [2.8147884e-05]\n",
            " [8.1146114e-05]\n",
            " [1.5674066e-04]\n",
            " [1.0066959e-03]\n",
            " [5.8832078e-04]\n",
            " [7.1458118e-05]\n",
            " [3.9517923e-04]\n",
            " [1.9914970e-04]]\n",
            "Epoch 2: Generator Loss: 1.4900, Discriminator Loss: 0.8496\n",
            "Epoch 2: Discriminator Predictions on Random Noise:\n",
            " [[0.00709671]\n",
            " [0.00046612]\n",
            " [0.00196112]\n",
            " [0.00279434]\n",
            " [0.00123073]\n",
            " [0.01526763]\n",
            " [0.00575247]\n",
            " [0.00108365]\n",
            " [0.00192974]\n",
            " [0.002725  ]\n",
            " [0.00172705]\n",
            " [0.00443128]\n",
            " [0.02022017]\n",
            " [0.00856735]\n",
            " [0.00968345]\n",
            " [0.00052524]]\n",
            "Epoch 3: Generator Loss: 1.3928, Discriminator Loss: 1.0339\n",
            "Epoch 3: Discriminator Predictions on Random Noise:\n",
            " [[1.5200822e-05]\n",
            " [3.6027221e-04]\n",
            " [4.3178279e-05]\n",
            " [1.7522416e-05]\n",
            " [2.2757129e-07]\n",
            " [5.1552517e-05]\n",
            " [1.1788292e-03]\n",
            " [1.6507887e-06]\n",
            " [6.8893947e-05]\n",
            " [1.5379268e-06]\n",
            " [9.4885938e-05]\n",
            " [6.9209150e-06]\n",
            " [4.6618348e-05]\n",
            " [2.9665272e-05]\n",
            " [8.6162427e-06]\n",
            " [7.3274728e-06]]\n",
            "Epoch 4: Generator Loss: 1.2208, Discriminator Loss: 1.1343\n",
            "Epoch 4: Discriminator Predictions on Random Noise:\n",
            " [[2.0355787e-05]\n",
            " [4.7777139e-04]\n",
            " [2.4034096e-05]\n",
            " [5.6915028e-06]\n",
            " [2.9987539e-05]\n",
            " [2.5766718e-04]\n",
            " [1.6389173e-05]\n",
            " [6.1590486e-05]\n",
            " [7.6156080e-06]\n",
            " [9.4369971e-05]\n",
            " [1.0514451e-05]\n",
            " [2.1502217e-04]\n",
            " [6.0364814e-04]\n",
            " [9.1369293e-06]\n",
            " [2.7392582e-05]\n",
            " [1.5286461e-05]]\n",
            "Epoch 5: Generator Loss: 1.2298, Discriminator Loss: 1.1250\n",
            "Checkpoint saved at epoch 5\n",
            "Epoch 5: Discriminator Predictions on Random Noise:\n",
            " [[1.8732206e-04]\n",
            " [2.2985489e-04]\n",
            " [1.0517030e-03]\n",
            " [5.9864346e-05]\n",
            " [2.0230065e-04]\n",
            " [4.1243251e-04]\n",
            " [1.2916652e-04]\n",
            " [1.2719275e-04]\n",
            " [1.0809491e-04]\n",
            " [4.5658415e-04]\n",
            " [8.7248125e-05]\n",
            " [1.1791864e-04]\n",
            " [1.8950138e-04]\n",
            " [1.2085551e-02]\n",
            " [3.3997899e-04]\n",
            " [2.3818944e-04]]\n",
            "Epoch 6: Generator Loss: 1.2611, Discriminator Loss: 1.1063\n",
            "Epoch 6: Discriminator Predictions on Random Noise:\n",
            " [[0.02100867]\n",
            " [0.00446606]\n",
            " [0.00053788]\n",
            " [0.0023695 ]\n",
            " [0.01320093]\n",
            " [0.11435281]\n",
            " [0.01783468]\n",
            " [0.01303038]\n",
            " [0.02087681]\n",
            " [0.0119196 ]\n",
            " [0.00271615]\n",
            " [0.01106562]\n",
            " [0.03791902]\n",
            " [0.04221708]\n",
            " [0.05850396]\n",
            " [0.00883057]]\n",
            "Epoch 7: Generator Loss: 1.3671, Discriminator Loss: 0.9979\n",
            "Epoch 7: Discriminator Predictions on Random Noise:\n",
            " [[1.6115794e-04]\n",
            " [3.3923586e-06]\n",
            " [6.2304107e-06]\n",
            " [9.0375135e-05]\n",
            " [9.3065224e-05]\n",
            " [6.4701628e-05]\n",
            " [6.9562350e-03]\n",
            " [2.4265390e-05]\n",
            " [4.1094646e-04]\n",
            " [2.7352464e-05]\n",
            " [1.1955916e-05]\n",
            " [4.4907345e-05]\n",
            " [1.7556402e-05]\n",
            " [1.2441028e-05]\n",
            " [2.8852472e-04]\n",
            " [4.9665116e-05]]\n",
            "Epoch 8: Generator Loss: 1.3691, Discriminator Loss: 1.0192\n",
            "Epoch 8: Discriminator Predictions on Random Noise:\n",
            " [[1.1040455e-02]\n",
            " [3.3511894e-03]\n",
            " [6.9796275e-03]\n",
            " [9.9741432e-05]\n",
            " [1.4949008e-03]\n",
            " [5.1553734e-04]\n",
            " [2.0515460e-03]\n",
            " [1.0632160e-03]\n",
            " [2.8382796e-03]\n",
            " [3.0852589e-05]\n",
            " [2.3736741e-04]\n",
            " [1.4934657e-03]\n",
            " [2.7392269e-04]\n",
            " [2.5087696e-01]\n",
            " [1.4078356e-03]\n",
            " [8.5383485e-04]]\n",
            "Epoch 9: Generator Loss: 1.5064, Discriminator Loss: 0.9215\n",
            "Epoch 9: Discriminator Predictions on Random Noise:\n",
            " [[2.1020949e-05]\n",
            " [6.4226565e-06]\n",
            " [1.6816682e-04]\n",
            " [2.6803428e-07]\n",
            " [9.4813673e-05]\n",
            " [1.2441004e-04]\n",
            " [7.9943100e-05]\n",
            " [1.9345005e-05]\n",
            " [5.3026179e-06]\n",
            " [6.6602354e-07]\n",
            " [6.3025266e-07]\n",
            " [7.7326586e-06]\n",
            " [1.2414232e-06]\n",
            " [1.6580747e-05]\n",
            " [1.3867218e-07]\n",
            " [5.1712965e-07]]\n",
            "Epoch 10: Generator Loss: 1.4913, Discriminator Loss: 0.8994\n",
            "Checkpoint saved at epoch 10\n",
            "Epoch 10: Discriminator Predictions on Random Noise:\n",
            " [[1.59281863e-05]\n",
            " [8.90572665e-06]\n",
            " [1.98270762e-04]\n",
            " [3.90836448e-07]\n",
            " [4.11314841e-06]\n",
            " [4.11808905e-05]\n",
            " [2.79706626e-07]\n",
            " [1.21901076e-06]\n",
            " [7.59045236e-07]\n",
            " [1.98880080e-05]\n",
            " [3.44324349e-07]\n",
            " [1.25449822e-06]\n",
            " [1.13617552e-05]\n",
            " [1.23935195e-06]\n",
            " [1.48522295e-05]\n",
            " [4.36993741e-06]]\n",
            "Epoch 11: Generator Loss: 1.5458, Discriminator Loss: 0.8920\n",
            "Epoch 11: Discriminator Predictions on Random Noise:\n",
            " [[7.0727505e-03]\n",
            " [8.2477048e-04]\n",
            " [6.3236555e-05]\n",
            " [3.8169023e-06]\n",
            " [9.3614937e-05]\n",
            " [2.4917874e-05]\n",
            " [8.6243142e-04]\n",
            " [1.5323651e-04]\n",
            " [7.0001456e-06]\n",
            " [1.4757906e-03]\n",
            " [3.9610845e-06]\n",
            " [3.0853618e-05]\n",
            " [5.8643192e-05]\n",
            " [1.7843643e-04]\n",
            " [1.7072516e-05]\n",
            " [8.8844512e-04]]\n",
            "Epoch 12: Generator Loss: 1.8079, Discriminator Loss: 0.7876\n",
            "Epoch 12: Discriminator Predictions on Random Noise:\n",
            " [[1.7251553e-03]\n",
            " [8.9185504e-04]\n",
            " [2.8075502e-07]\n",
            " [1.0840403e-05]\n",
            " [7.6993972e-05]\n",
            " [2.1125216e-02]\n",
            " [9.1366282e-08]\n",
            " [6.7941569e-06]\n",
            " [9.6038042e-04]\n",
            " [1.7793307e-05]\n",
            " [2.4575580e-04]\n",
            " [6.1879305e-06]\n",
            " [1.1056433e-05]\n",
            " [1.6754870e-04]\n",
            " [2.1737066e-04]\n",
            " [3.1287075e-04]]\n",
            "Epoch 13: Generator Loss: 1.9293, Discriminator Loss: 0.7378\n",
            "Epoch 13: Discriminator Predictions on Random Noise:\n",
            " [[1.9687086e-07]\n",
            " [4.8687922e-05]\n",
            " [6.4726068e-05]\n",
            " [4.4376608e-05]\n",
            " [4.7698863e-06]\n",
            " [1.5441126e-06]\n",
            " [1.5540387e-06]\n",
            " [3.0156536e-06]\n",
            " [1.9705927e-04]\n",
            " [2.5540110e-06]\n",
            " [4.1217328e-04]\n",
            " [2.5321939e-04]\n",
            " [2.6676944e-04]\n",
            " [1.6868170e-04]\n",
            " [3.5513316e-05]\n",
            " [1.3463801e-07]]\n",
            "Epoch 14: Generator Loss: 1.9822, Discriminator Loss: 0.6770\n",
            "Epoch 14: Discriminator Predictions on Random Noise:\n",
            " [[5.5451875e-07]\n",
            " [5.4985718e-05]\n",
            " [5.8873156e-06]\n",
            " [1.9008830e-08]\n",
            " [2.3446385e-06]\n",
            " [1.4137103e-05]\n",
            " [9.4513700e-05]\n",
            " [1.3118910e-06]\n",
            " [1.8858638e-06]\n",
            " [1.1647469e-04]\n",
            " [3.0599829e-05]\n",
            " [2.2716329e-06]\n",
            " [4.5652387e-06]\n",
            " [5.1118127e-06]\n",
            " [3.5748626e-06]\n",
            " [2.4876463e-06]]\n",
            "Epoch 15: Generator Loss: 2.1433, Discriminator Loss: 0.6493\n",
            "Checkpoint saved at epoch 15\n",
            "Epoch 15: Discriminator Predictions on Random Noise:\n",
            " [[6.3426146e-06]\n",
            " [1.7784469e-05]\n",
            " [1.0587668e-06]\n",
            " [8.1161979e-06]\n",
            " [9.8765613e-06]\n",
            " [2.6069811e-06]\n",
            " [2.0882528e-06]\n",
            " [2.6874513e-05]\n",
            " [2.4973585e-07]\n",
            " [3.6715056e-07]\n",
            " [1.3679818e-07]\n",
            " [3.8162145e-07]\n",
            " [4.3803925e-07]\n",
            " [2.4738486e-07]\n",
            " [2.2881244e-05]\n",
            " [1.3062854e-06]]\n",
            "Epoch 16: Generator Loss: 2.0061, Discriminator Loss: 0.6402\n",
            "Epoch 16: Discriminator Predictions on Random Noise:\n",
            " [[8.77628045e-05]\n",
            " [6.45906039e-05]\n",
            " [5.20192880e-05]\n",
            " [2.09953534e-04]\n",
            " [1.52357016e-03]\n",
            " [1.95982484e-05]\n",
            " [3.15771358e-05]\n",
            " [6.23496817e-05]\n",
            " [1.12759844e-04]\n",
            " [2.54618411e-04]\n",
            " [2.18936543e-06]\n",
            " [6.02527689e-05]\n",
            " [4.82484647e-05]\n",
            " [3.63192376e-04]\n",
            " [3.14060316e-07]\n",
            " [1.63365385e-05]]\n",
            "Epoch 17: Generator Loss: 2.1946, Discriminator Loss: 0.6015\n",
            "Epoch 17: Discriminator Predictions on Random Noise:\n",
            " [[6.7306594e-08]\n",
            " [3.4451386e-07]\n",
            " [2.6914293e-05]\n",
            " [1.5911781e-06]\n",
            " [3.8267031e-06]\n",
            " [4.1910920e-07]\n",
            " [2.1552976e-05]\n",
            " [6.0301943e-07]\n",
            " [2.9972696e-06]\n",
            " [3.8483279e-08]\n",
            " [1.5563575e-08]\n",
            " [9.2969508e-08]\n",
            " [7.2625596e-07]\n",
            " [2.0801163e-07]\n",
            " [3.2124767e-06]\n",
            " [3.1883446e-05]]\n",
            "Epoch 18: Generator Loss: 2.1997, Discriminator Loss: 0.6453\n",
            "Epoch 18: Discriminator Predictions on Random Noise:\n",
            " [[6.9655251e-04]\n",
            " [1.6115255e-04]\n",
            " [1.6770582e-04]\n",
            " [3.1096311e-05]\n",
            " [2.0321373e-04]\n",
            " [5.1725428e-03]\n",
            " [4.1207973e-06]\n",
            " [5.1826716e-04]\n",
            " [1.8595516e-05]\n",
            " [1.0632367e-04]\n",
            " [1.7223899e-04]\n",
            " [1.4215758e-03]\n",
            " [1.1502575e-02]\n",
            " [1.9612048e-06]\n",
            " [2.8950209e-04]\n",
            " [5.4692541e-04]]\n",
            "Epoch 19: Generator Loss: 2.2377, Discriminator Loss: 0.5976\n",
            "Epoch 19: Discriminator Predictions on Random Noise:\n",
            " [[6.25763005e-06]\n",
            " [1.17320415e-05]\n",
            " [3.39708845e-06]\n",
            " [3.42951913e-04]\n",
            " [1.33352168e-03]\n",
            " [2.32893782e-07]\n",
            " [1.99417573e-05]\n",
            " [2.50112556e-04]\n",
            " [4.01943078e-04]\n",
            " [1.61889075e-05]\n",
            " [1.05863757e-04]\n",
            " [3.00506945e-05]\n",
            " [4.55551235e-05]\n",
            " [9.68703603e-07]\n",
            " [7.62873242e-05]\n",
            " [1.00071338e-05]]\n",
            "Epoch 20: Generator Loss: 2.1889, Discriminator Loss: 0.6588\n",
            "Checkpoint saved at epoch 20\n",
            "Epoch 20: Discriminator Predictions on Random Noise:\n",
            " [[2.2137699e-05]\n",
            " [2.2608036e-04]\n",
            " [1.5070889e-04]\n",
            " [8.0502476e-05]\n",
            " [7.3186452e-06]\n",
            " [1.0766512e-04]\n",
            " [5.5915606e-03]\n",
            " [1.4273643e-05]\n",
            " [7.0436668e-05]\n",
            " [1.7327940e-05]\n",
            " [1.1460373e-06]\n",
            " [2.5965477e-05]\n",
            " [6.5614604e-06]\n",
            " [6.8901272e-06]\n",
            " [1.2447906e-03]\n",
            " [1.1321022e-05]]\n",
            "Epoch 21: Generator Loss: 2.0904, Discriminator Loss: 0.7188\n",
            "Epoch 21: Discriminator Predictions on Random Noise:\n",
            " [[6.72171809e-05]\n",
            " [2.64215487e-06]\n",
            " [7.80118683e-07]\n",
            " [8.04903237e-08]\n",
            " [2.14460692e-06]\n",
            " [8.37543266e-05]\n",
            " [7.35269350e-06]\n",
            " [1.57718389e-07]\n",
            " [5.10860773e-05]\n",
            " [1.51203608e-03]\n",
            " [1.06102125e-05]\n",
            " [1.74985701e-06]\n",
            " [4.72634820e-05]\n",
            " [7.10832001e-06]\n",
            " [4.10947086e-06]\n",
            " [1.99054222e-04]]\n",
            "Epoch 22: Generator Loss: 1.9817, Discriminator Loss: 0.7550\n",
            "Epoch 22: Discriminator Predictions on Random Noise:\n",
            " [[2.9219268e-03]\n",
            " [1.7251265e-04]\n",
            " [1.6101469e-05]\n",
            " [9.3251333e-04]\n",
            " [2.2018592e-05]\n",
            " [1.0207796e-05]\n",
            " [3.4588043e-05]\n",
            " [5.1694733e-05]\n",
            " [5.9271442e-06]\n",
            " [8.2394399e-05]\n",
            " [3.5002944e-04]\n",
            " [5.4586100e-05]\n",
            " [2.8228289e-03]\n",
            " [2.1329125e-04]\n",
            " [7.8085950e-06]\n",
            " [1.9551246e-04]]\n",
            "Epoch 23: Generator Loss: 2.2318, Discriminator Loss: 0.6704\n",
            "Epoch 23: Discriminator Predictions on Random Noise:\n",
            " [[9.7555363e-05]\n",
            " [1.4991766e-06]\n",
            " [1.2035228e-05]\n",
            " [7.7147160e-06]\n",
            " [1.2134907e-04]\n",
            " [8.5302881e-06]\n",
            " [2.8409591e-04]\n",
            " [8.1485487e-04]\n",
            " [3.2420317e-05]\n",
            " [1.1831284e-04]\n",
            " [4.8905422e-05]\n",
            " [1.0201659e-03]\n",
            " [7.3766714e-05]\n",
            " [6.5061812e-07]\n",
            " [1.0437325e-04]\n",
            " [6.2862760e-05]]\n",
            "Epoch 24: Generator Loss: 2.1569, Discriminator Loss: 0.6946\n",
            "Epoch 24: Discriminator Predictions on Random Noise:\n",
            " [[7.6292583e-04]\n",
            " [5.3900090e-04]\n",
            " [9.0033771e-04]\n",
            " [2.5271866e-04]\n",
            " [5.8373641e-03]\n",
            " [3.8016831e-05]\n",
            " [1.4326172e-03]\n",
            " [1.9740206e-05]\n",
            " [4.4187177e-06]\n",
            " [6.0286385e-04]\n",
            " [1.8354503e-03]\n",
            " [2.3927746e-04]\n",
            " [1.2558451e-03]\n",
            " [3.5486501e-05]\n",
            " [9.4364208e-05]\n",
            " [9.0222964e-03]]\n",
            "Epoch 25: Generator Loss: 2.1563, Discriminator Loss: 0.6862\n",
            "Checkpoint saved at epoch 25\n",
            "Epoch 25: Discriminator Predictions on Random Noise:\n",
            " [[2.21156697e-05]\n",
            " [1.19968163e-05]\n",
            " [7.71611394e-06]\n",
            " [5.80260667e-06]\n",
            " [1.38965013e-04]\n",
            " [4.38527932e-04]\n",
            " [1.06316365e-04]\n",
            " [8.33987360e-06]\n",
            " [6.36362762e-04]\n",
            " [3.85278327e-05]\n",
            " [3.33558506e-04]\n",
            " [4.03059035e-04]\n",
            " [2.86127004e-04]\n",
            " [1.85337994e-05]\n",
            " [3.09524535e-06]\n",
            " [3.07833179e-05]]\n",
            "Epoch 26: Generator Loss: 2.1826, Discriminator Loss: 0.6866\n",
            "Epoch 26: Discriminator Predictions on Random Noise:\n",
            " [[1.35666914e-02]\n",
            " [6.05222594e-04]\n",
            " [8.67842209e-06]\n",
            " [1.44459045e-04]\n",
            " [2.03870673e-04]\n",
            " [8.88993032e-03]\n",
            " [2.29477650e-03]\n",
            " [1.49540688e-06]\n",
            " [7.30420870e-05]\n",
            " [1.46795755e-05]\n",
            " [9.87490872e-04]\n",
            " [4.32682136e-05]\n",
            " [7.68492555e-06]\n",
            " [4.22205773e-07]\n",
            " [7.99621630e-05]\n",
            " [3.88561224e-04]]\n",
            "Epoch 27: Generator Loss: 2.3502, Discriminator Loss: 0.6711\n",
            "Epoch 27: Discriminator Predictions on Random Noise:\n",
            " [[8.55771080e-03]\n",
            " [1.03700650e-03]\n",
            " [1.14022747e-04]\n",
            " [2.98766332e-04]\n",
            " [9.62865818e-03]\n",
            " [1.26678315e-05]\n",
            " [2.23460165e-03]\n",
            " [1.29483204e-04]\n",
            " [1.50386968e-05]\n",
            " [3.61206592e-04]\n",
            " [7.43934652e-04]\n",
            " [3.66062923e-05]\n",
            " [1.75524183e-04]\n",
            " [5.20471767e-05]\n",
            " [2.52470514e-03]\n",
            " [1.67240170e-04]]\n",
            "Epoch 28: Generator Loss: 2.1997, Discriminator Loss: 0.6214\n",
            "Epoch 28: Discriminator Predictions on Random Noise:\n",
            " [[3.7741957e-03]\n",
            " [3.5779949e-03]\n",
            " [9.5028371e-02]\n",
            " [2.1494911e-03]\n",
            " [4.8034426e-06]\n",
            " [9.6755248e-06]\n",
            " [3.3792034e-03]\n",
            " [2.1004535e-03]\n",
            " [2.0568303e-03]\n",
            " [6.0261260e-03]\n",
            " [8.0854155e-04]\n",
            " [3.7469592e-02]\n",
            " [1.2624275e-04]\n",
            " [1.8413459e-03]\n",
            " [1.9108409e-04]\n",
            " [9.5968199e-04]]\n",
            "Epoch 29: Generator Loss: 2.0724, Discriminator Loss: 0.6772\n",
            "Epoch 29: Discriminator Predictions on Random Noise:\n",
            " [[0.00038291]\n",
            " [0.00030169]\n",
            " [0.05027896]\n",
            " [0.00078173]\n",
            " [0.00162181]\n",
            " [0.0613011 ]\n",
            " [0.07853027]\n",
            " [0.0827375 ]\n",
            " [0.02219561]\n",
            " [0.00528917]\n",
            " [0.00147568]\n",
            " [0.00016807]\n",
            " [0.00346029]\n",
            " [0.00332581]\n",
            " [0.0002582 ]\n",
            " [0.00130917]]\n",
            "Epoch 30: Generator Loss: 1.9642, Discriminator Loss: 0.7449\n",
            "Checkpoint saved at epoch 30\n",
            "Epoch 30: Discriminator Predictions on Random Noise:\n",
            " [[2.4805526e-04]\n",
            " [3.1568028e-04]\n",
            " [3.0749576e-05]\n",
            " [1.0981017e-03]\n",
            " [9.5733727e-04]\n",
            " [1.3167317e-05]\n",
            " [1.7800735e-04]\n",
            " [2.0156095e-02]\n",
            " [4.4252569e-04]\n",
            " [2.7443661e-04]\n",
            " [3.3993620e-05]\n",
            " [1.2529608e-02]\n",
            " [1.1704465e-03]\n",
            " [2.0528836e-04]\n",
            " [3.0619770e-03]\n",
            " [2.8848238e-04]]\n",
            "Epoch 31: Generator Loss: 2.0764, Discriminator Loss: 0.6860\n",
            "Epoch 31: Discriminator Predictions on Random Noise:\n",
            " [[0.59446234]\n",
            " [0.09511449]\n",
            " [0.0733755 ]\n",
            " [0.00521253]\n",
            " [0.18637307]\n",
            " [0.02958425]\n",
            " [0.72050965]\n",
            " [0.00745931]\n",
            " [0.00100633]\n",
            " [0.4379007 ]\n",
            " [0.7383423 ]\n",
            " [0.12900797]\n",
            " [0.73449135]\n",
            " [0.5215592 ]\n",
            " [0.00448668]\n",
            " [0.3205663 ]]\n",
            "Epoch 32: Generator Loss: 2.0891, Discriminator Loss: 0.6857\n",
            "Epoch 32: Discriminator Predictions on Random Noise:\n",
            " [[4.53631207e-02]\n",
            " [1.07065207e-05]\n",
            " [1.86350997e-04]\n",
            " [1.16416501e-04]\n",
            " [1.13528025e-04]\n",
            " [8.95998848e-04]\n",
            " [1.32960646e-04]\n",
            " [3.16681899e-03]\n",
            " [1.28338614e-03]\n",
            " [1.46191439e-03]\n",
            " [4.11720388e-03]\n",
            " [1.60759810e-04]\n",
            " [7.09667383e-03]\n",
            " [1.11777463e-03]\n",
            " [2.12551281e-02]\n",
            " [5.64389571e-04]]\n",
            "Epoch 33: Generator Loss: 2.1689, Discriminator Loss: 0.6265\n",
            "Epoch 33: Discriminator Predictions on Random Noise:\n",
            " [[0.23305543]\n",
            " [0.15652537]\n",
            " [0.86497355]\n",
            " [0.63122636]\n",
            " [0.8129169 ]\n",
            " [0.91748774]\n",
            " [0.98792136]\n",
            " [0.97826296]\n",
            " [0.37037835]\n",
            " [0.8627614 ]\n",
            " [0.20569953]\n",
            " [0.16975175]\n",
            " [0.46285087]\n",
            " [0.93642795]\n",
            " [0.90212715]\n",
            " [0.7822897 ]]\n",
            "Epoch 34: Generator Loss: 2.0102, Discriminator Loss: 0.7340\n",
            "Epoch 34: Discriminator Predictions on Random Noise:\n",
            " [[3.3433881e-01]\n",
            " [1.0791706e-01]\n",
            " [3.0907099e-03]\n",
            " [9.9342898e-02]\n",
            " [1.0386995e-01]\n",
            " [5.0069481e-02]\n",
            " [1.7748588e-01]\n",
            " [7.8089773e-03]\n",
            " [2.9635243e-04]\n",
            " [4.9445483e-01]\n",
            " [2.9147880e-03]\n",
            " [2.4988614e-03]\n",
            " [2.3896769e-02]\n",
            " [3.0268391e-03]\n",
            " [1.0991612e-02]\n",
            " [2.0659712e-01]]\n",
            "Epoch 35: Generator Loss: 2.0076, Discriminator Loss: 0.7085\n",
            "Checkpoint saved at epoch 35\n",
            "Epoch 35: Discriminator Predictions on Random Noise:\n",
            " [[6.7444943e-04]\n",
            " [1.1153234e-03]\n",
            " [1.2933569e-03]\n",
            " [3.8509640e-01]\n",
            " [6.0063084e-03]\n",
            " [1.0238391e-02]\n",
            " [4.7429344e-03]\n",
            " [4.3557184e-03]\n",
            " [2.5068293e-04]\n",
            " [9.4181363e-05]\n",
            " [4.0125260e-03]\n",
            " [9.0151699e-03]\n",
            " [2.5601925e-03]\n",
            " [7.6680670e-05]\n",
            " [3.8180511e-05]\n",
            " [2.4033201e-01]]\n",
            "Epoch 36: Generator Loss: 1.9764, Discriminator Loss: 0.7518\n",
            "Epoch 36: Discriminator Predictions on Random Noise:\n",
            " [[2.38817581e-03]\n",
            " [3.79014052e-02]\n",
            " [3.40759367e-01]\n",
            " [1.24694197e-03]\n",
            " [2.11587365e-04]\n",
            " [1.80054616e-04]\n",
            " [1.69758260e-01]\n",
            " [6.04956120e-04]\n",
            " [2.20859811e-01]\n",
            " [2.84031242e-01]\n",
            " [7.93420617e-03]\n",
            " [1.58950277e-02]\n",
            " [6.34074095e-04]\n",
            " [1.02571575e-02]\n",
            " [3.91398964e-04]\n",
            " [1.20816782e-01]]\n",
            "Epoch 37: Generator Loss: 2.0466, Discriminator Loss: 0.7532\n",
            "Epoch 37: Discriminator Predictions on Random Noise:\n",
            " [[7.61856651e-03]\n",
            " [2.37169918e-02]\n",
            " [2.12359764e-02]\n",
            " [7.20527070e-03]\n",
            " [7.30441650e-03]\n",
            " [5.96882077e-03]\n",
            " [1.11453034e-01]\n",
            " [1.99781512e-04]\n",
            " [7.43069034e-03]\n",
            " [3.67181808e-01]\n",
            " [1.51917413e-01]\n",
            " [7.74447341e-04]\n",
            " [1.65244028e-01]\n",
            " [1.84248923e-03]\n",
            " [1.06021045e-02]\n",
            " [7.57059967e-03]]\n",
            "Epoch 38: Generator Loss: 2.0078, Discriminator Loss: 0.7581\n",
            "Epoch 38: Discriminator Predictions on Random Noise:\n",
            " [[6.7581706e-02]\n",
            " [1.4573734e-02]\n",
            " [3.7545220e-03]\n",
            " [1.9127065e-02]\n",
            " [1.9998536e-02]\n",
            " [2.3871765e-03]\n",
            " [2.3432006e-04]\n",
            " [7.1406420e-03]\n",
            " [2.4173357e-01]\n",
            " [9.0930164e-03]\n",
            " [1.9077965e-03]\n",
            " [8.9981520e-01]\n",
            " [9.0221804e-01]\n",
            " [1.5909422e-02]\n",
            " [4.3498462e-01]\n",
            " [2.4058942e-03]]\n",
            "Epoch 39: Generator Loss: 1.7929, Discriminator Loss: 0.8014\n",
            "Epoch 39: Discriminator Predictions on Random Noise:\n",
            " [[0.26811007]\n",
            " [0.99980766]\n",
            " [0.11258145]\n",
            " [0.80404145]\n",
            " [0.9397853 ]\n",
            " [0.78717417]\n",
            " [0.9911412 ]\n",
            " [0.99406755]\n",
            " [0.6079369 ]\n",
            " [0.68119353]\n",
            " [0.6213065 ]\n",
            " [0.9582856 ]\n",
            " [0.79222846]\n",
            " [0.7205647 ]\n",
            " [0.92855567]\n",
            " [0.8557056 ]]\n",
            "Epoch 40: Generator Loss: 1.8587, Discriminator Loss: 0.7712\n",
            "Checkpoint saved at epoch 40\n",
            "Epoch 40: Discriminator Predictions on Random Noise:\n",
            " [[0.5565963 ]\n",
            " [0.00101303]\n",
            " [0.14439303]\n",
            " [0.0402508 ]\n",
            " [0.01646622]\n",
            " [0.04621637]\n",
            " [0.2191443 ]\n",
            " [0.20173232]\n",
            " [0.00692616]\n",
            " [0.2581811 ]\n",
            " [0.5624561 ]\n",
            " [0.01556471]\n",
            " [0.13760704]\n",
            " [0.00627975]\n",
            " [0.0113835 ]\n",
            " [0.01231669]]\n",
            "Epoch 41: Generator Loss: 2.0432, Discriminator Loss: 0.7530\n",
            "Epoch 41: Discriminator Predictions on Random Noise:\n",
            " [[0.15294394]\n",
            " [0.53648084]\n",
            " [0.10039874]\n",
            " [0.01287615]\n",
            " [0.86200124]\n",
            " [0.5910505 ]\n",
            " [0.39163837]\n",
            " [0.31964144]\n",
            " [0.13303527]\n",
            " [0.9850759 ]\n",
            " [0.0027498 ]\n",
            " [0.93935275]\n",
            " [0.07340293]\n",
            " [0.97729504]\n",
            " [0.72228074]\n",
            " [0.6511852 ]]\n",
            "Epoch 42: Generator Loss: 2.0670, Discriminator Loss: 0.7306\n",
            "Epoch 42: Discriminator Predictions on Random Noise:\n",
            " [[0.17071158]\n",
            " [0.17887223]\n",
            " [0.00078973]\n",
            " [0.10007775]\n",
            " [0.1816888 ]\n",
            " [0.15848482]\n",
            " [0.00178124]\n",
            " [0.2780315 ]\n",
            " [0.52193844]\n",
            " [0.00447435]\n",
            " [0.00068012]\n",
            " [0.59694827]\n",
            " [0.0311949 ]\n",
            " [0.6729691 ]\n",
            " [0.5486694 ]\n",
            " [0.29274237]]\n",
            "Epoch 43: Generator Loss: 1.9430, Discriminator Loss: 0.7399\n",
            "Epoch 43: Discriminator Predictions on Random Noise:\n",
            " [[0.99664813]\n",
            " [0.25825325]\n",
            " [0.9969152 ]\n",
            " [0.00690386]\n",
            " [0.01372961]\n",
            " [0.04850948]\n",
            " [0.98389524]\n",
            " [0.07741309]\n",
            " [0.61425096]\n",
            " [0.239312  ]\n",
            " [0.04796039]\n",
            " [0.60903513]\n",
            " [0.75348353]\n",
            " [0.5670167 ]\n",
            " [0.6875998 ]\n",
            " [0.02641278]]\n",
            "Epoch 44: Generator Loss: 1.8814, Discriminator Loss: 0.7799\n",
            "Epoch 44: Discriminator Predictions on Random Noise:\n",
            " [[0.11593705]\n",
            " [0.4379529 ]\n",
            " [0.81829566]\n",
            " [0.02072707]\n",
            " [0.33073914]\n",
            " [0.01091618]\n",
            " [0.8046376 ]\n",
            " [0.3863237 ]\n",
            " [0.01764149]\n",
            " [0.842155  ]\n",
            " [0.9877868 ]\n",
            " [0.47732294]\n",
            " [0.01059959]\n",
            " [0.5738865 ]\n",
            " [0.01936706]\n",
            " [0.9906749 ]]\n",
            "Epoch 45: Generator Loss: 1.8930, Discriminator Loss: 0.7587\n",
            "Checkpoint saved at epoch 45\n",
            "Epoch 45: Discriminator Predictions on Random Noise:\n",
            " [[0.60832465]\n",
            " [0.5387033 ]\n",
            " [0.9103964 ]\n",
            " [0.68305147]\n",
            " [0.9346677 ]\n",
            " [0.95127904]\n",
            " [0.5599948 ]\n",
            " [0.19995953]\n",
            " [0.6700479 ]\n",
            " [0.9522102 ]\n",
            " [0.8603906 ]\n",
            " [0.84656024]\n",
            " [0.22427045]\n",
            " [0.94221   ]\n",
            " [0.9577048 ]\n",
            " [0.87345403]]\n",
            "Epoch 46: Generator Loss: 1.9134, Discriminator Loss: 0.8015\n",
            "Epoch 46: Discriminator Predictions on Random Noise:\n",
            " [[0.36668268]\n",
            " [0.950198  ]\n",
            " [0.7435047 ]\n",
            " [0.9067046 ]\n",
            " [0.6316449 ]\n",
            " [0.01781381]\n",
            " [0.763168  ]\n",
            " [0.16380505]\n",
            " [0.8406624 ]\n",
            " [0.38914704]\n",
            " [0.29663104]\n",
            " [0.7709135 ]\n",
            " [0.00744533]\n",
            " [0.3728497 ]\n",
            " [0.91786283]\n",
            " [0.7000853 ]]\n",
            "Epoch 47: Generator Loss: 1.9150, Discriminator Loss: 0.7629\n",
            "Epoch 47: Discriminator Predictions on Random Noise:\n",
            " [[9.4751596e-01]\n",
            " [2.4433406e-01]\n",
            " [9.2390311e-01]\n",
            " [1.1049743e-01]\n",
            " [6.2680638e-01]\n",
            " [2.5372019e-02]\n",
            " [7.4647611e-01]\n",
            " [7.7899438e-01]\n",
            " [8.4618956e-01]\n",
            " [7.1149445e-01]\n",
            " [9.8463583e-01]\n",
            " [4.1899666e-02]\n",
            " [6.5354770e-04]\n",
            " [4.9772549e-02]\n",
            " [6.6939670e-01]\n",
            " [9.7804397e-01]]\n",
            "Epoch 48: Generator Loss: 1.9160, Discriminator Loss: 0.7800\n",
            "Epoch 48: Discriminator Predictions on Random Noise:\n",
            " [[0.01766426]\n",
            " [0.9249624 ]\n",
            " [0.18142703]\n",
            " [0.7917974 ]\n",
            " [0.3214092 ]\n",
            " [0.95250696]\n",
            " [0.85758454]\n",
            " [0.88443047]\n",
            " [0.11963827]\n",
            " [0.3907972 ]\n",
            " [0.37964645]\n",
            " [0.939142  ]\n",
            " [0.05140195]\n",
            " [0.9949555 ]\n",
            " [0.7264176 ]\n",
            " [0.83882177]]\n",
            "Epoch 49: Generator Loss: 1.8381, Discriminator Loss: 0.8143\n",
            "Epoch 49: Discriminator Predictions on Random Noise:\n",
            " [[0.91387564]\n",
            " [0.07284768]\n",
            " [0.23267527]\n",
            " [0.62138414]\n",
            " [0.21050307]\n",
            " [0.9962804 ]\n",
            " [0.9964355 ]\n",
            " [0.6157381 ]\n",
            " [0.7710188 ]\n",
            " [0.06580716]\n",
            " [0.85228425]\n",
            " [0.17587495]\n",
            " [0.38272035]\n",
            " [0.48022303]\n",
            " [0.8695686 ]\n",
            " [0.12547213]]\n",
            "Epoch 50: Generator Loss: 1.9331, Discriminator Loss: 0.7567\n",
            "Checkpoint saved at epoch 50\n",
            "Epoch 50: Discriminator Predictions on Random Noise:\n",
            " [[0.99950314]\n",
            " [0.99798644]\n",
            " [0.05790398]\n",
            " [0.9980896 ]\n",
            " [0.821912  ]\n",
            " [0.9090891 ]\n",
            " [0.92427784]\n",
            " [0.9739033 ]\n",
            " [0.75292426]\n",
            " [0.9644201 ]\n",
            " [0.9993781 ]\n",
            " [0.9673555 ]\n",
            " [0.89235735]\n",
            " [0.9962811 ]\n",
            " [0.10621043]\n",
            " [0.9937836 ]]\n"
          ]
        },
        {
          "output_type": "display_data",
          "data": {
            "text/plain": [
              "<Figure size 1000x500 with 1 Axes>"
            ],
            "image/png": "[encoded data removed]"
          },
          "metadata": {}
        }
      ]
    },
    {
      "cell_type": "markdown",
      "source": [
        "# Model Evaluation\n"
      ],
      "metadata": {
        "id": "qvDo3YLwR1IP"
      }
    },
    {
      "cell_type": "code",
      "source": [
        "best_generator.summary()"
      ],
      "metadata": {
        "colab": {
          "base_uri": "https://localhost:8080/",
          "height": 561
        },
        "id": "izIVKd12WC0P",
        "outputId": "a6b5aef2-1439-405e-8129-58fdd9319bfc"
      },
      "execution_count": 46,
      "outputs": [
        {
          "output_type": "display_data",
          "data": {
            "text/plain": [
              "\u001b[1mModel: \"Generator\"\u001b[0m\n"
            ],
            "text/html": [
              "<pre style=\"white-space:pre;overflow-x:auto;line-height:normal;font-family:Menlo,'DejaVu Sans Mono',consolas,'Courier New',monospace\"><span style=\"font-weight: bold\">Model: \"Generator\"</span>\n",
              "</pre>\n"
            ]
          },
          "metadata": {}
        },
        {
          "output_type": "display_data",
          "data": {
            "text/plain": [
              "┏━━━━━━━━━━━━━━━━━━━━━━━━━━━━━━━━━━━━━━┳━━━━━━━━━━━━━━━━━━━━━━━━━━━━━┳━━━━━━━━━━━━━━━━━┓\n",
              "┃\u001b[1m \u001b[0m\u001b[1mLayer (type)                        \u001b[0m\u001b[1m \u001b[0m┃\u001b[1m \u001b[0m\u001b[1mOutput Shape               \u001b[0m\u001b[1m \u001b[0m┃\u001b[1m \u001b[0m\u001b[1m        Param #\u001b[0m\u001b[1m \u001b[0m┃\n",
              "┡━━━━━━━━━━━━━━━━━━━━━━━━━━━━━━━━━━━━━━╇━━━━━━━━━━━━━━━━━━━━━━━━━━━━━╇━━━━━━━━━━━━━━━━━┩\n",
              "│ dense_2 (\u001b[38;5;33mDense\u001b[0m)                      │ (\u001b[38;5;45mNone\u001b[0m, \u001b[38;5;34m6272\u001b[0m)                │         \u001b[38;5;34m627,200\u001b[0m │\n",
              "├──────────────────────────────────────┼─────────────────────────────┼─────────────────┤\n",
              "│ batch_normalization_3                │ (\u001b[38;5;45mNone\u001b[0m, \u001b[38;5;34m6272\u001b[0m)                │          \u001b[38;5;34m25,088\u001b[0m │\n",
              "│ (\u001b[38;5;33mBatchNormalization\u001b[0m)                 │                             │                 │\n",
              "├──────────────────────────────────────┼─────────────────────────────┼─────────────────┤\n",
              "│ leaky_re_lu_5 (\u001b[38;5;33mLeakyReLU\u001b[0m)            │ (\u001b[38;5;45mNone\u001b[0m, \u001b[38;5;34m6272\u001b[0m)                │               \u001b[38;5;34m0\u001b[0m │\n",
              "├──────────────────────────────────────┼─────────────────────────────┼─────────────────┤\n",
              "│ reshape_1 (\u001b[38;5;33mReshape\u001b[0m)                  │ (\u001b[38;5;45mNone\u001b[0m, \u001b[38;5;34m7\u001b[0m, \u001b[38;5;34m7\u001b[0m, \u001b[38;5;34m128\u001b[0m)           │               \u001b[38;5;34m0\u001b[0m │\n",
              "├──────────────────────────────────────┼─────────────────────────────┼─────────────────┤\n",
              "│ conv2d_transpose_3 (\u001b[38;5;33mConv2DTranspose\u001b[0m) │ (\u001b[38;5;45mNone\u001b[0m, \u001b[38;5;34m7\u001b[0m, \u001b[38;5;34m7\u001b[0m, \u001b[38;5;34m128\u001b[0m)           │         \u001b[38;5;34m409,600\u001b[0m │\n",
              "├──────────────────────────────────────┼─────────────────────────────┼─────────────────┤\n",
              "│ batch_normalization_4                │ (\u001b[38;5;45mNone\u001b[0m, \u001b[38;5;34m7\u001b[0m, \u001b[38;5;34m7\u001b[0m, \u001b[38;5;34m128\u001b[0m)           │             \u001b[38;5;34m512\u001b[0m │\n",
              "│ (\u001b[38;5;33mBatchNormalization\u001b[0m)                 │                             │                 │\n",
              "├──────────────────────────────────────┼─────────────────────────────┼─────────────────┤\n",
              "│ leaky_re_lu_6 (\u001b[38;5;33mLeakyReLU\u001b[0m)            │ (\u001b[38;5;45mNone\u001b[0m, \u001b[38;5;34m7\u001b[0m, \u001b[38;5;34m7\u001b[0m, \u001b[38;5;34m128\u001b[0m)           │               \u001b[38;5;34m0\u001b[0m │\n",
              "├──────────────────────────────────────┼─────────────────────────────┼─────────────────┤\n",
              "│ conv2d_transpose_4 (\u001b[38;5;33mConv2DTranspose\u001b[0m) │ (\u001b[38;5;45mNone\u001b[0m, \u001b[38;5;34m14\u001b[0m, \u001b[38;5;34m14\u001b[0m, \u001b[38;5;34m32\u001b[0m)          │         \u001b[38;5;34m102,400\u001b[0m │\n",
              "├──────────────────────────────────────┼─────────────────────────────┼─────────────────┤\n",
              "│ batch_normalization_5                │ (\u001b[38;5;45mNone\u001b[0m, \u001b[38;5;34m14\u001b[0m, \u001b[38;5;34m14\u001b[0m, \u001b[38;5;34m32\u001b[0m)          │             \u001b[38;5;34m128\u001b[0m │\n",
              "│ (\u001b[38;5;33mBatchNormalization\u001b[0m)                 │                             │                 │\n",
              "├──────────────────────────────────────┼─────────────────────────────┼─────────────────┤\n",
              "│ leaky_re_lu_7 (\u001b[38;5;33mLeakyReLU\u001b[0m)            │ (\u001b[38;5;45mNone\u001b[0m, \u001b[38;5;34m14\u001b[0m, \u001b[38;5;34m14\u001b[0m, \u001b[38;5;34m32\u001b[0m)          │               \u001b[38;5;34m0\u001b[0m │\n",
              "├──────────────────────────────────────┼─────────────────────────────┼─────────────────┤\n",
              "│ conv2d_transpose_5 (\u001b[38;5;33mConv2DTranspose\u001b[0m) │ (\u001b[38;5;45mNone\u001b[0m, \u001b[38;5;34m28\u001b[0m, \u001b[38;5;34m28\u001b[0m, \u001b[38;5;34m1\u001b[0m)           │             \u001b[38;5;34m800\u001b[0m │\n",
              "└──────────────────────────────────────┴─────────────────────────────┴─────────────────┘\n"
            ],
            "text/html": [
              "<pre style=\"white-space:pre;overflow-x:auto;line-height:normal;font-family:Menlo,'DejaVu Sans Mono',consolas,'Courier New',monospace\">┏━━━━━━━━━━━━━━━━━━━━━━━━━━━━━━━━━━━━━━┳━━━━━━━━━━━━━━━━━━━━━━━━━━━━━┳━━━━━━━━━━━━━━━━━┓\n",
              "┃<span style=\"font-weight: bold\"> Layer (type)                         </span>┃<span style=\"font-weight: bold\"> Output Shape                </span>┃<span style=\"font-weight: bold\">         Param # </span>┃\n",
              "┡━━━━━━━━━━━━━━━━━━━━━━━━━━━━━━━━━━━━━━╇━━━━━━━━━━━━━━━━━━━━━━━━━━━━━╇━━━━━━━━━━━━━━━━━┩\n",
              "│ dense_2 (<span style=\"color: #0087ff; text-decoration-color: #0087ff\">Dense</span>)                      │ (<span style=\"color: #00d7ff; text-decoration-color: #00d7ff\">None</span>, <span style=\"color: #00af00; text-decoration-color: #00af00\">6272</span>)                │         <span style=\"color: #00af00; text-decoration-color: #00af00\">627,200</span> │\n",
              "├──────────────────────────────────────┼─────────────────────────────┼─────────────────┤\n",
              "│ batch_normalization_3                │ (<span style=\"color: #00d7ff; text-decoration-color: #00d7ff\">None</span>, <span style=\"color: #00af00; text-decoration-color: #00af00\">6272</span>)                │          <span style=\"color: #00af00; text-decoration-color: #00af00\">25,088</span> │\n",
              "│ (<span style=\"color: #0087ff; text-decoration-color: #0087ff\">BatchNormalization</span>)                 │                             │                 │\n",
              "├──────────────────────────────────────┼─────────────────────────────┼─────────────────┤\n",
              "│ leaky_re_lu_5 (<span style=\"color: #0087ff; text-decoration-color: #0087ff\">LeakyReLU</span>)            │ (<span style=\"color: #00d7ff; text-decoration-color: #00d7ff\">None</span>, <span style=\"color: #00af00; text-decoration-color: #00af00\">6272</span>)                │               <span style=\"color: #00af00; text-decoration-color: #00af00\">0</span> │\n",
              "├──────────────────────────────────────┼─────────────────────────────┼─────────────────┤\n",
              "│ reshape_1 (<span style=\"color: #0087ff; text-decoration-color: #0087ff\">Reshape</span>)                  │ (<span style=\"color: #00d7ff; text-decoration-color: #00d7ff\">None</span>, <span style=\"color: #00af00; text-decoration-color: #00af00\">7</span>, <span style=\"color: #00af00; text-decoration-color: #00af00\">7</span>, <span style=\"color: #00af00; text-decoration-color: #00af00\">128</span>)           │               <span style=\"color: #00af00; text-decoration-color: #00af00\">0</span> │\n",
              "├──────────────────────────────────────┼─────────────────────────────┼─────────────────┤\n",
              "│ conv2d_transpose_3 (<span style=\"color: #0087ff; text-decoration-color: #0087ff\">Conv2DTranspose</span>) │ (<span style=\"color: #00d7ff; text-decoration-color: #00d7ff\">None</span>, <span style=\"color: #00af00; text-decoration-color: #00af00\">7</span>, <span style=\"color: #00af00; text-decoration-color: #00af00\">7</span>, <span style=\"color: #00af00; text-decoration-color: #00af00\">128</span>)           │         <span style=\"color: #00af00; text-decoration-color: #00af00\">409,600</span> │\n",
              "├──────────────────────────────────────┼─────────────────────────────┼─────────────────┤\n",
              "│ batch_normalization_4                │ (<span style=\"color: #00d7ff; text-decoration-color: #00d7ff\">None</span>, <span style=\"color: #00af00; text-decoration-color: #00af00\">7</span>, <span style=\"color: #00af00; text-decoration-color: #00af00\">7</span>, <span style=\"color: #00af00; text-decoration-color: #00af00\">128</span>)           │             <span style=\"color: #00af00; text-decoration-color: #00af00\">512</span> │\n",
              "│ (<span style=\"color: #0087ff; text-decoration-color: #0087ff\">BatchNormalization</span>)                 │                             │                 │\n",
              "├──────────────────────────────────────┼─────────────────────────────┼─────────────────┤\n",
              "│ leaky_re_lu_6 (<span style=\"color: #0087ff; text-decoration-color: #0087ff\">LeakyReLU</span>)            │ (<span style=\"color: #00d7ff; text-decoration-color: #00d7ff\">None</span>, <span style=\"color: #00af00; text-decoration-color: #00af00\">7</span>, <span style=\"color: #00af00; text-decoration-color: #00af00\">7</span>, <span style=\"color: #00af00; text-decoration-color: #00af00\">128</span>)           │               <span style=\"color: #00af00; text-decoration-color: #00af00\">0</span> │\n",
              "├──────────────────────────────────────┼─────────────────────────────┼─────────────────┤\n",
              "│ conv2d_transpose_4 (<span style=\"color: #0087ff; text-decoration-color: #0087ff\">Conv2DTranspose</span>) │ (<span style=\"color: #00d7ff; text-decoration-color: #00d7ff\">None</span>, <span style=\"color: #00af00; text-decoration-color: #00af00\">14</span>, <span style=\"color: #00af00; text-decoration-color: #00af00\">14</span>, <span style=\"color: #00af00; text-decoration-color: #00af00\">32</span>)          │         <span style=\"color: #00af00; text-decoration-color: #00af00\">102,400</span> │\n",
              "├──────────────────────────────────────┼─────────────────────────────┼─────────────────┤\n",
              "│ batch_normalization_5                │ (<span style=\"color: #00d7ff; text-decoration-color: #00d7ff\">None</span>, <span style=\"color: #00af00; text-decoration-color: #00af00\">14</span>, <span style=\"color: #00af00; text-decoration-color: #00af00\">14</span>, <span style=\"color: #00af00; text-decoration-color: #00af00\">32</span>)          │             <span style=\"color: #00af00; text-decoration-color: #00af00\">128</span> │\n",
              "│ (<span style=\"color: #0087ff; text-decoration-color: #0087ff\">BatchNormalization</span>)                 │                             │                 │\n",
              "├──────────────────────────────────────┼─────────────────────────────┼─────────────────┤\n",
              "│ leaky_re_lu_7 (<span style=\"color: #0087ff; text-decoration-color: #0087ff\">LeakyReLU</span>)            │ (<span style=\"color: #00d7ff; text-decoration-color: #00d7ff\">None</span>, <span style=\"color: #00af00; text-decoration-color: #00af00\">14</span>, <span style=\"color: #00af00; text-decoration-color: #00af00\">14</span>, <span style=\"color: #00af00; text-decoration-color: #00af00\">32</span>)          │               <span style=\"color: #00af00; text-decoration-color: #00af00\">0</span> │\n",
              "├──────────────────────────────────────┼─────────────────────────────┼─────────────────┤\n",
              "│ conv2d_transpose_5 (<span style=\"color: #0087ff; text-decoration-color: #0087ff\">Conv2DTranspose</span>) │ (<span style=\"color: #00d7ff; text-decoration-color: #00d7ff\">None</span>, <span style=\"color: #00af00; text-decoration-color: #00af00\">28</span>, <span style=\"color: #00af00; text-decoration-color: #00af00\">28</span>, <span style=\"color: #00af00; text-decoration-color: #00af00\">1</span>)           │             <span style=\"color: #00af00; text-decoration-color: #00af00\">800</span> │\n",
              "└──────────────────────────────────────┴─────────────────────────────┴─────────────────┘\n",
              "</pre>\n"
            ]
          },
          "metadata": {}
        },
        {
          "output_type": "display_data",
          "data": {
            "text/plain": [
              "\u001b[1m Total params: \u001b[0m\u001b[38;5;34m1,165,728\u001b[0m (4.45 MB)\n"
            ],
            "text/html": [
              "<pre style=\"white-space:pre;overflow-x:auto;line-height:normal;font-family:Menlo,'DejaVu Sans Mono',consolas,'Courier New',monospace\"><span style=\"font-weight: bold\"> Total params: </span><span style=\"color: #00af00; text-decoration-color: #00af00\">1,165,728</span> (4.45 MB)\n",
              "</pre>\n"
            ]
          },
          "metadata": {}
        },
        {
          "output_type": "display_data",
          "data": {
            "text/plain": [
              "\u001b[1m Trainable params: \u001b[0m\u001b[38;5;34m1,152,864\u001b[0m (4.40 MB)\n"
            ],
            "text/html": [
              "<pre style=\"white-space:pre;overflow-x:auto;line-height:normal;font-family:Menlo,'DejaVu Sans Mono',consolas,'Courier New',monospace\"><span style=\"font-weight: bold\"> Trainable params: </span><span style=\"color: #00af00; text-decoration-color: #00af00\">1,152,864</span> (4.40 MB)\n",
              "</pre>\n"
            ]
          },
          "metadata": {}
        },
        {
          "output_type": "display_data",
          "data": {
            "text/plain": [
              "\u001b[1m Non-trainable params: \u001b[0m\u001b[38;5;34m12,864\u001b[0m (50.25 KB)\n"
            ],
            "text/html": [
              "<pre style=\"white-space:pre;overflow-x:auto;line-height:normal;font-family:Menlo,'DejaVu Sans Mono',consolas,'Courier New',monospace\"><span style=\"font-weight: bold\"> Non-trainable params: </span><span style=\"color: #00af00; text-decoration-color: #00af00\">12,864</span> (50.25 KB)\n",
              "</pre>\n"
            ]
          },
          "metadata": {}
        }
      ]
    },
    {
      "cell_type": "code",
      "source": [
        "best_discriminator.summary()"
      ],
      "metadata": {
        "colab": {
          "base_uri": "https://localhost:8080/",
          "height": 408
        },
        "id": "2xpCyzuiWTpF",
        "outputId": "969b6654-4676-408a-d483-54a6c4cba63e"
      },
      "execution_count": 47,
      "outputs": [
        {
          "output_type": "display_data",
          "data": {
            "text/plain": [
              "\u001b[1mModel: \"Discriminator\"\u001b[0m\n"
            ],
            "text/html": [
              "<pre style=\"white-space:pre;overflow-x:auto;line-height:normal;font-family:Menlo,'DejaVu Sans Mono',consolas,'Courier New',monospace\"><span style=\"font-weight: bold\">Model: \"Discriminator\"</span>\n",
              "</pre>\n"
            ]
          },
          "metadata": {}
        },
        {
          "output_type": "display_data",
          "data": {
            "text/plain": [
              "┏━━━━━━━━━━━━━━━━━━━━━━━━━━━━━━━━━━━━━━┳━━━━━━━━━━━━━━━━━━━━━━━━━━━━━┳━━━━━━━━━━━━━━━━━┓\n",
              "┃\u001b[1m \u001b[0m\u001b[1mLayer (type)                        \u001b[0m\u001b[1m \u001b[0m┃\u001b[1m \u001b[0m\u001b[1mOutput Shape               \u001b[0m\u001b[1m \u001b[0m┃\u001b[1m \u001b[0m\u001b[1m        Param #\u001b[0m\u001b[1m \u001b[0m┃\n",
              "┡━━━━━━━━━━━━━━━━━━━━━━━━━━━━━━━━━━━━━━╇━━━━━━━━━━━━━━━━━━━━━━━━━━━━━╇━━━━━━━━━━━━━━━━━┩\n",
              "│ conv2d_2 (\u001b[38;5;33mConv2D\u001b[0m)                    │ (\u001b[38;5;45mNone\u001b[0m, \u001b[38;5;34m14\u001b[0m, \u001b[38;5;34m14\u001b[0m, \u001b[38;5;34m64\u001b[0m)          │           \u001b[38;5;34m1,664\u001b[0m │\n",
              "├──────────────────────────────────────┼─────────────────────────────┼─────────────────┤\n",
              "│ leaky_re_lu_8 (\u001b[38;5;33mLeakyReLU\u001b[0m)            │ (\u001b[38;5;45mNone\u001b[0m, \u001b[38;5;34m14\u001b[0m, \u001b[38;5;34m14\u001b[0m, \u001b[38;5;34m64\u001b[0m)          │               \u001b[38;5;34m0\u001b[0m │\n",
              "├──────────────────────────────────────┼─────────────────────────────┼─────────────────┤\n",
              "│ dropout_2 (\u001b[38;5;33mDropout\u001b[0m)                  │ (\u001b[38;5;45mNone\u001b[0m, \u001b[38;5;34m14\u001b[0m, \u001b[38;5;34m14\u001b[0m, \u001b[38;5;34m64\u001b[0m)          │               \u001b[38;5;34m0\u001b[0m │\n",
              "├──────────────────────────────────────┼─────────────────────────────┼─────────────────┤\n",
              "│ conv2d_3 (\u001b[38;5;33mConv2D\u001b[0m)                    │ (\u001b[38;5;45mNone\u001b[0m, \u001b[38;5;34m7\u001b[0m, \u001b[38;5;34m7\u001b[0m, \u001b[38;5;34m256\u001b[0m)           │         \u001b[38;5;34m409,856\u001b[0m │\n",
              "├──────────────────────────────────────┼─────────────────────────────┼─────────────────┤\n",
              "│ leaky_re_lu_9 (\u001b[38;5;33mLeakyReLU\u001b[0m)            │ (\u001b[38;5;45mNone\u001b[0m, \u001b[38;5;34m7\u001b[0m, \u001b[38;5;34m7\u001b[0m, \u001b[38;5;34m256\u001b[0m)           │               \u001b[38;5;34m0\u001b[0m │\n",
              "├──────────────────────────────────────┼─────────────────────────────┼─────────────────┤\n",
              "│ dropout_3 (\u001b[38;5;33mDropout\u001b[0m)                  │ (\u001b[38;5;45mNone\u001b[0m, \u001b[38;5;34m7\u001b[0m, \u001b[38;5;34m7\u001b[0m, \u001b[38;5;34m256\u001b[0m)           │               \u001b[38;5;34m0\u001b[0m │\n",
              "├──────────────────────────────────────┼─────────────────────────────┼─────────────────┤\n",
              "│ flatten_1 (\u001b[38;5;33mFlatten\u001b[0m)                  │ (\u001b[38;5;45mNone\u001b[0m, \u001b[38;5;34m12544\u001b[0m)               │               \u001b[38;5;34m0\u001b[0m │\n",
              "├──────────────────────────────────────┼─────────────────────────────┼─────────────────┤\n",
              "│ dense_3 (\u001b[38;5;33mDense\u001b[0m)                      │ (\u001b[38;5;45mNone\u001b[0m, \u001b[38;5;34m1\u001b[0m)                   │          \u001b[38;5;34m12,545\u001b[0m │\n",
              "└──────────────────────────────────────┴─────────────────────────────┴─────────────────┘\n"
            ],
            "text/html": [
              "<pre style=\"white-space:pre;overflow-x:auto;line-height:normal;font-family:Menlo,'DejaVu Sans Mono',consolas,'Courier New',monospace\">┏━━━━━━━━━━━━━━━━━━━━━━━━━━━━━━━━━━━━━━┳━━━━━━━━━━━━━━━━━━━━━━━━━━━━━┳━━━━━━━━━━━━━━━━━┓\n",
              "┃<span style=\"font-weight: bold\"> Layer (type)                         </span>┃<span style=\"font-weight: bold\"> Output Shape                </span>┃<span style=\"font-weight: bold\">         Param # </span>┃\n",
              "┡━━━━━━━━━━━━━━━━━━━━━━━━━━━━━━━━━━━━━━╇━━━━━━━━━━━━━━━━━━━━━━━━━━━━━╇━━━━━━━━━━━━━━━━━┩\n",
              "│ conv2d_2 (<span style=\"color: #0087ff; text-decoration-color: #0087ff\">Conv2D</span>)                    │ (<span style=\"color: #00d7ff; text-decoration-color: #00d7ff\">None</span>, <span style=\"color: #00af00; text-decoration-color: #00af00\">14</span>, <span style=\"color: #00af00; text-decoration-color: #00af00\">14</span>, <span style=\"color: #00af00; text-decoration-color: #00af00\">64</span>)          │           <span style=\"color: #00af00; text-decoration-color: #00af00\">1,664</span> │\n",
              "├──────────────────────────────────────┼─────────────────────────────┼─────────────────┤\n",
              "│ leaky_re_lu_8 (<span style=\"color: #0087ff; text-decoration-color: #0087ff\">LeakyReLU</span>)            │ (<span style=\"color: #00d7ff; text-decoration-color: #00d7ff\">None</span>, <span style=\"color: #00af00; text-decoration-color: #00af00\">14</span>, <span style=\"color: #00af00; text-decoration-color: #00af00\">14</span>, <span style=\"color: #00af00; text-decoration-color: #00af00\">64</span>)          │               <span style=\"color: #00af00; text-decoration-color: #00af00\">0</span> │\n",
              "├──────────────────────────────────────┼─────────────────────────────┼─────────────────┤\n",
              "│ dropout_2 (<span style=\"color: #0087ff; text-decoration-color: #0087ff\">Dropout</span>)                  │ (<span style=\"color: #00d7ff; text-decoration-color: #00d7ff\">None</span>, <span style=\"color: #00af00; text-decoration-color: #00af00\">14</span>, <span style=\"color: #00af00; text-decoration-color: #00af00\">14</span>, <span style=\"color: #00af00; text-decoration-color: #00af00\">64</span>)          │               <span style=\"color: #00af00; text-decoration-color: #00af00\">0</span> │\n",
              "├──────────────────────────────────────┼─────────────────────────────┼─────────────────┤\n",
              "│ conv2d_3 (<span style=\"color: #0087ff; text-decoration-color: #0087ff\">Conv2D</span>)                    │ (<span style=\"color: #00d7ff; text-decoration-color: #00d7ff\">None</span>, <span style=\"color: #00af00; text-decoration-color: #00af00\">7</span>, <span style=\"color: #00af00; text-decoration-color: #00af00\">7</span>, <span style=\"color: #00af00; text-decoration-color: #00af00\">256</span>)           │         <span style=\"color: #00af00; text-decoration-color: #00af00\">409,856</span> │\n",
              "├──────────────────────────────────────┼─────────────────────────────┼─────────────────┤\n",
              "│ leaky_re_lu_9 (<span style=\"color: #0087ff; text-decoration-color: #0087ff\">LeakyReLU</span>)            │ (<span style=\"color: #00d7ff; text-decoration-color: #00d7ff\">None</span>, <span style=\"color: #00af00; text-decoration-color: #00af00\">7</span>, <span style=\"color: #00af00; text-decoration-color: #00af00\">7</span>, <span style=\"color: #00af00; text-decoration-color: #00af00\">256</span>)           │               <span style=\"color: #00af00; text-decoration-color: #00af00\">0</span> │\n",
              "├──────────────────────────────────────┼─────────────────────────────┼─────────────────┤\n",
              "│ dropout_3 (<span style=\"color: #0087ff; text-decoration-color: #0087ff\">Dropout</span>)                  │ (<span style=\"color: #00d7ff; text-decoration-color: #00d7ff\">None</span>, <span style=\"color: #00af00; text-decoration-color: #00af00\">7</span>, <span style=\"color: #00af00; text-decoration-color: #00af00\">7</span>, <span style=\"color: #00af00; text-decoration-color: #00af00\">256</span>)           │               <span style=\"color: #00af00; text-decoration-color: #00af00\">0</span> │\n",
              "├──────────────────────────────────────┼─────────────────────────────┼─────────────────┤\n",
              "│ flatten_1 (<span style=\"color: #0087ff; text-decoration-color: #0087ff\">Flatten</span>)                  │ (<span style=\"color: #00d7ff; text-decoration-color: #00d7ff\">None</span>, <span style=\"color: #00af00; text-decoration-color: #00af00\">12544</span>)               │               <span style=\"color: #00af00; text-decoration-color: #00af00\">0</span> │\n",
              "├──────────────────────────────────────┼─────────────────────────────┼─────────────────┤\n",
              "│ dense_3 (<span style=\"color: #0087ff; text-decoration-color: #0087ff\">Dense</span>)                      │ (<span style=\"color: #00d7ff; text-decoration-color: #00d7ff\">None</span>, <span style=\"color: #00af00; text-decoration-color: #00af00\">1</span>)                   │          <span style=\"color: #00af00; text-decoration-color: #00af00\">12,545</span> │\n",
              "└──────────────────────────────────────┴─────────────────────────────┴─────────────────┘\n",
              "</pre>\n"
            ]
          },
          "metadata": {}
        },
        {
          "output_type": "display_data",
          "data": {
            "text/plain": [
              "\u001b[1m Total params: \u001b[0m\u001b[38;5;34m424,065\u001b[0m (1.62 MB)\n"
            ],
            "text/html": [
              "<pre style=\"white-space:pre;overflow-x:auto;line-height:normal;font-family:Menlo,'DejaVu Sans Mono',consolas,'Courier New',monospace\"><span style=\"font-weight: bold\"> Total params: </span><span style=\"color: #00af00; text-decoration-color: #00af00\">424,065</span> (1.62 MB)\n",
              "</pre>\n"
            ]
          },
          "metadata": {}
        },
        {
          "output_type": "display_data",
          "data": {
            "text/plain": [
              "\u001b[1m Trainable params: \u001b[0m\u001b[38;5;34m424,065\u001b[0m (1.62 MB)\n"
            ],
            "text/html": [
              "<pre style=\"white-space:pre;overflow-x:auto;line-height:normal;font-family:Menlo,'DejaVu Sans Mono',consolas,'Courier New',monospace\"><span style=\"font-weight: bold\"> Trainable params: </span><span style=\"color: #00af00; text-decoration-color: #00af00\">424,065</span> (1.62 MB)\n",
              "</pre>\n"
            ]
          },
          "metadata": {}
        },
        {
          "output_type": "display_data",
          "data": {
            "text/plain": [
              "\u001b[1m Non-trainable params: \u001b[0m\u001b[38;5;34m0\u001b[0m (0.00 B)\n"
            ],
            "text/html": [
              "<pre style=\"white-space:pre;overflow-x:auto;line-height:normal;font-family:Menlo,'DejaVu Sans Mono',consolas,'Courier New',monospace\"><span style=\"font-weight: bold\"> Non-trainable params: </span><span style=\"color: #00af00; text-decoration-color: #00af00\">0</span> (0.00 B)\n",
              "</pre>\n"
            ]
          },
          "metadata": {}
        }
      ]
    },
    {
      "cell_type": "markdown",
      "source": [
        "### Visually comparing real and fake images"
      ],
      "metadata": {
        "id": "oPpNUOcjSPji"
      }
    },
    {
      "cell_type": "code",
      "source": [
        "def compare_real_and_fake(generator, test_images, num_samples=10):\n",
        "    noise = tf.random.normal([num_samples, LATENT_DIM])\n",
        "    generated_images = generator(noise, training=False)\n",
        "\n",
        "    fig, axes = plt.subplots(2, num_samples, figsize=(num_samples * 1.5, 3))\n",
        "\n",
        "    for i in range(num_samples):\n",
        "        # Ensure test_images is 4D; if 3D, no need for the last index\n",
        "        real_image = test_images[i] if test_images.ndim == 3 else test_images[i, :, :, 0]\n",
        "        fake_image = generated_images[i, :, :, 0]  # Generated images are always 4D\n",
        "\n",
        "        # Show real images (from test set)\n",
        "        axes[0, i].imshow(real_image, cmap=\"gray\")\n",
        "        axes[0, i].axis(\"off\")\n",
        "\n",
        "        # Show generated images\n",
        "        axes[1, i].imshow(fake_image, cmap=\"gray\")\n",
        "        axes[1, i].axis(\"off\")\n",
        "\n",
        "    axes[0, 0].set_title(\"Real Images\", fontsize=14)\n",
        "    axes[1, 0].set_title(\"Generated Images\", fontsize=14)\n",
        "    plt.show()\n",
        "\n",
        "# Compare real and generated images\n",
        "compare_real_and_fake(best_generator, test_images)"
      ],
      "metadata": {
        "colab": {
          "base_uri": "https://localhost:8080/",
          "height": 269
        },
        "id": "XkBtsfvIRIcA",
        "outputId": "51ebbc73-07a2-4e73-8779-fba67ef03ad3"
      },
      "execution_count": 50,
      "outputs": [
        {
          "output_type": "display_data",
          "data": {
            "text/plain": [
              "<Figure size 1500x300 with 20 Axes>"
            ],
            "image/png": "[encoded data removed]"
          },
          "metadata": {}
        }
      ]
    },
    {
      "cell_type": "markdown",
      "source": [
        "### Inception Score"
      ],
      "metadata": {
        "id": "lpvPtxsOSS2c"
      }
    },
    {
      "cell_type": "code",
      "source": [
        "def calculate_inception_score(generator, num_samples=500):\n",
        "    # Load InceptionV3 with include_top=False (allows flexible input sizes)\n",
        "    inception_model = InceptionV3(include_top=False, weights=\"imagenet\", pooling=\"avg\")\n",
        "\n",
        "    # Generate fake images\n",
        "    noise = tf.random.normal([num_samples, LATENT_DIM])\n",
        "    generated_images = generator(noise, training=False)\n",
        "\n",
        "    # Resize images to 299x299x3 (required for InceptionV3)\n",
        "    generated_images = tf.image.resize(generated_images, [299, 299])\n",
        "    generated_images = tf.image.grayscale_to_rgb(generated_images)  # Convert grayscale to RGB\n",
        "    generated_images = preprocess_input(generated_images)  # Normalize\n",
        "\n",
        "    # Get classifier predictions (extract features using InceptionV3)\n",
        "    preds = inception_model.predict(generated_images)\n",
        "\n",
        "    # Compute the Inception Score\n",
        "    p_yx = preds / preds.sum(axis=1, keepdims=True)  # Normalize\n",
        "    p_y = np.mean(p_yx, axis=0)  # Marginal distribution\n",
        "    kl_divergence = entropy(p_yx.T, p_y[:, np.newaxis])  # Compute KL divergence\n",
        "    inception_score = np.exp(np.mean(kl_divergence))\n",
        "\n",
        "    return inception_score\n",
        "\n",
        "# Compute and print the Inception Score\n",
        "is_score = calculate_inception_score(best_generator)\n",
        "print(f\"Inception Score: {is_score:.4f}\")"
      ],
      "metadata": {
        "colab": {
          "base_uri": "https://localhost:8080/"
        },
        "id": "_oOqzitgRxy0",
        "outputId": "68cff8b5-ca16-4fc1-fcb6-6bc5e3a34d87"
      },
      "execution_count": 53,
      "outputs": [
        {
          "output_type": "stream",
          "name": "stdout",
          "text": [
            "\u001b[1m16/16\u001b[0m \u001b[32m━━━━━━━━━━━━━━━━━━━━\u001b[0m\u001b[37m\u001b[0m \u001b[1m25s\u001b[0m 769ms/step\n",
            "Inception Score: 1.0573\n"
          ]
        }
      ]
    },
    {
      "cell_type": "markdown",
      "source": [
        "### FID"
      ],
      "metadata": {
        "id": "iDzgiYgWSVVS"
      }
    },
    {
      "cell_type": "code",
      "source": [
        "# Ensure test images are preprocessed correctly BEFORE passing to FID function\n",
        "def preprocess_test_images(test_images, num_samples=500):\n",
        "    # Normalize test images\n",
        "    test_images = (test_images.astype(\"float32\") - 127.5) / 127.5\n",
        "\n",
        "    # Ensure test_images has a channel dimension\n",
        "    if test_images.ndim == 3:  # If shape is (num_samples, 28, 28)\n",
        "        test_images = np.expand_dims(test_images, axis=-1)  # Add channel (num_samples, 28, 28, 1)\n",
        "\n",
        "    # Select num_samples images\n",
        "    test_images = test_images[:num_samples]\n",
        "\n",
        "    # Resize images to 75x75\n",
        "    test_images_resized = tf.image.resize(test_images, [75, 75], method=tf.image.ResizeMethod.BILINEAR)\n",
        "\n",
        "    # Convert grayscale to RGB\n",
        "    test_images_resized = tf.image.grayscale_to_rgb(test_images_resized)\n",
        "\n",
        "    # Preprocess images for InceptionV3\n",
        "    test_images_resized = preprocess_input(test_images_resized)\n",
        "\n",
        "    return test_images_resized\n",
        "\n",
        "def calculate_fid(generator, test_images, num_samples=500):\n",
        "    # Load InceptionV3 model with correct input size\n",
        "    inception_model = InceptionV3(include_top=False, pooling='avg', input_shape=(75, 75, 3))\n",
        "\n",
        "    # Ensure test images are correctly preprocessed before passing\n",
        "    test_images_resized = preprocess_test_images(test_images, num_samples)\n",
        "\n",
        "    # Generate fake images\n",
        "    noise = tf.random.normal([num_samples, LATENT_DIM])\n",
        "    generated_images = generator(noise, training=False)\n",
        "\n",
        "    # Resize generated images to match 75x75 size\n",
        "    generated_images = tf.image.resize(generated_images, [75, 75], method=tf.image.ResizeMethod.BILINEAR)\n",
        "\n",
        "    # Convert grayscale to RGB\n",
        "    generated_images = tf.image.grayscale_to_rgb(generated_images)\n",
        "\n",
        "    # Preprocess for InceptionV3\n",
        "    generated_images = preprocess_input(generated_images)\n",
        "\n",
        "    # Debugging: Print shapes before FID calculation\n",
        "    print(f\"Generated images shape: {generated_images.shape}\")  # Should be (500, 75, 75, 3)\n",
        "    print(f\"Test images shape: {test_images_resized.shape}\")  # Should be (500, 75, 75, 3)\n",
        "\n",
        "    # Extract features from InceptionV3\n",
        "    real_features = inception_model.predict(test_images_resized)\n",
        "    fake_features = inception_model.predict(generated_images)\n",
        "\n",
        "    # Compute mean and covariance of features\n",
        "    mu_real, sigma_real = real_features.mean(axis=0), np.cov(real_features, rowvar=False)\n",
        "    mu_fake, sigma_fake = fake_features.mean(axis=0), np.cov(fake_features, rowvar=False)\n",
        "\n",
        "    # Compute Frechet Distance\n",
        "    diff = mu_real - mu_fake\n",
        "    cov_sqrt, _ = sqrtm(sigma_real @ sigma_fake, disp=False)  # Matrix square root of covariance product\n",
        "\n",
        "    if np.iscomplexobj(cov_sqrt):\n",
        "        cov_sqrt = cov_sqrt.real  # Remove imaginary part\n",
        "\n",
        "    fid_score = np.sum(diff**2) + np.trace(sigma_real + sigma_fake - 2 * cov_sqrt)\n",
        "    return fid_score\n",
        "\n",
        "# Preprocess test images once before passing to FID function\n",
        "(_, _), (test_images, _) = tf.keras.datasets.fashion_mnist.load_data()\n",
        "\n",
        "# Compute and print FID Score\n",
        "fid_score = calculate_fid(best_generator, test_images)\n",
        "print(f\"FID Score: {fid_score:.4f}\")\n"
      ],
      "metadata": {
        "colab": {
          "base_uri": "https://localhost:8080/"
        },
        "id": "6bzH1BRPSJ22",
        "outputId": "e10b8dff-4414-4e10-cee7-d225cef7019e"
      },
      "execution_count": 60,
      "outputs": [
        {
          "output_type": "stream",
          "name": "stdout",
          "text": [
            "Generated images shape: (500, 75, 75, 3)\n",
            "Test images shape: (500, 75, 75, 3)\n",
            "\u001b[1m16/16\u001b[0m \u001b[32m━━━━━━━━━━━━━━━━━━━━\u001b[0m\u001b[37m\u001b[0m \u001b[1m154s\u001b[0m 490ms/step\n",
            "\u001b[1m16/16\u001b[0m \u001b[32m━━━━━━━━━━━━━━━━━━━━\u001b[0m\u001b[37m\u001b[0m \u001b[1m0s\u001b[0m 20ms/step\n",
            "FID Score: 124.5130\n"
          ]
        }
      ]
    },
    {
      "cell_type": "markdown",
      "source": [
        "### Using the Discriminator on the test data"
      ],
      "metadata": {
        "id": "tqwFF1L3SX1b"
      }
    },
    {
      "cell_type": "code",
      "source": [
        "def evaluate_discriminator_on_test(discriminator, test_images, num_samples=500):\n",
        "    noise = tf.random.normal([num_samples, LATENT_DIM])\n",
        "    generated_images = best_generator(noise, training=False)\n",
        "\n",
        "    # Get discriminator predictions\n",
        "    real_predictions = discriminator(test_images[:num_samples], training=False)\n",
        "    fake_predictions = discriminator(generated_images, training=False)\n",
        "\n",
        "    real_acc = np.mean(real_predictions.numpy() > 0.5)\n",
        "    fake_acc = np.mean(fake_predictions.numpy() < 0.5)\n",
        "\n",
        "    print(f\"Discriminator Accuracy on Real Images: {real_acc:.2%}\")\n",
        "    print(f\"Discriminator Accuracy on Fake Images: {fake_acc:.2%}\")\n",
        "\n",
        "# Evaluate discriminator\n",
        "evaluate_discriminator_on_test(best_discriminator, test_images)"
      ],
      "metadata": {
        "colab": {
          "base_uri": "https://localhost:8080/"
        },
        "id": "YuNbRAhMSMAi",
        "outputId": "9a24f0ea-c268-4b82-a24e-658e258bb21e"
      },
      "execution_count": 40,
      "outputs": [
        {
          "output_type": "stream",
          "name": "stdout",
          "text": [
            "Discriminator Accuracy on Real Images: 30.20%\n",
            "Discriminator Accuracy on Fake Images: 91.80%\n"
          ]
        }
      ]
    }
  ],
  "metadata": {
    "accelerator": "GPU",
    "colab": {
      "provenance": []
    },
    "kernelspec": {
      "display_name": "Python 3",
      "name": "python3"
    }
  },
  "nbformat": 4,
  "nbformat_minor": 0
}